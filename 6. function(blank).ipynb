{
 "cells": [
  {
   "cell_type": "markdown",
   "metadata": {},
   "source": [
    "# 6장. 함수(function)\n",
    "- 크고 복잡한 문제는 작고 간단한 문제로 나누어 해결해야 한다.\n",
    "- 함수는 작고 간단한 문제를 해결하는 작은 프로그램이다.\n",
    "- 함수는 입력(input) 값을 받아 처리한 출력(output) 값을 반환(return)한다.\n",
    "\n",
    "## 1. 왜 함수를 사용할까?\n",
    "\n",
    "- 문장을 그룹으로 만들어 새로운 함수로 명명하는 것이 프로그램을 읽고, 이해하고, 디버그하기 편리하다.\n",
    "- 긴 프로그램을 함수로 나누어 작성하면 작은 부분에서 버그를 수정할 수 있고, 이를 조합해서 전체적으로 동작하는 프로그램을 만들 수 있다.\n",
    "- 함수는 반복 코드를 제거해서 프로그램을 작고 콤팩트하게 만든다. 나중에 프로그램에 수정사항이 생기면, 단지 한 곳만 수정하면 된다.\n",
    "- 잘 설계된 함수를 작성하고 디버그를 통해 오류가 없이 만들면, 나중에 재사용도 용이하다.\n",
    "\n",
    "## 2. 함수 정의"
   ]
  },
  {
   "cell_type": "raw",
   "metadata": {},
   "source": [
    "def 함수명(매개변수):\n",
    "    수행할 문장1\n",
    "    수행할 문장2\n",
    "    수행할 문장3\n",
    "    ...\n",
    "    return 반환 값"
   ]
  },
  {
   "cell_type": "code",
   "execution_count": 1,
   "metadata": {},
   "outputs": [],
   "source": [
    "def twotimes(x):\n",
    "    y = 2 * x\n",
    "    return y"
   ]
  },
  {
   "cell_type": "markdown",
   "metadata": {},
   "source": [
    "## 3. 함수 호출"
   ]
  },
  {
   "cell_type": "code",
   "execution_count": 2,
   "metadata": {},
   "outputs": [
    {
     "name": "stdout",
     "output_type": "stream",
     "text": [
      "4\n",
      "20\n"
     ]
    }
   ],
   "source": [
    "print(twotimes(2))\n",
    "print(twotimes(10))"
   ]
  },
  {
   "cell_type": "markdown",
   "metadata": {},
   "source": [
    "- 매개변수(parameter) : 함수에 전달된 데이터(입력)를 받는 변수\n",
    "- 인자(argument) : 함수를 호출할 때 함수에 전달하는 데이터(입력 값)"
   ]
  },
  {
   "cell_type": "markdown",
   "metadata": {},
   "source": [
    "- 함수를 호출하면 함수에 전달한 인자(데이터)가 함수 속의 매개변수에 대입된다.\n",
    "- 함수 본문에 수행할 문장이 차례대로 실행된다.\n",
    "- 함수 실행이 종료되고, 함수의 실행 결과가 반환된다."
   ]
  },
  {
   "cell_type": "markdown",
   "metadata": {},
   "source": [
    "## 4. 매개변수(parameter)\n",
    "\n",
    "### 1) 여러 개의 매개변수"
   ]
  },
  {
   "cell_type": "code",
   "execution_count": 3,
   "metadata": {},
   "outputs": [
    {
     "name": "stdout",
     "output_type": "stream",
     "text": [
      "3\n"
     ]
    }
   ],
   "source": [
    "def add(x, y):\n",
    "    return x + y\n",
    "\n",
    "print(add(1, 2))"
   ]
  },
  {
   "cell_type": "code",
   "execution_count": 4,
   "metadata": {},
   "outputs": [
    {
     "name": "stdout",
     "output_type": "stream",
     "text": [
      "6\n"
     ]
    }
   ],
   "source": [
    "def total(a, b, c):\n",
    "    total = a + b + c\n",
    "    return total\n",
    "\n",
    "print(total(1, 2, 3))"
   ]
  },
  {
   "cell_type": "markdown",
   "metadata": {},
   "source": [
    "### 2) 매개변수 지정 값"
   ]
  },
  {
   "cell_type": "code",
   "execution_count": 6,
   "metadata": {},
   "outputs": [
    {
     "name": "stdout",
     "output_type": "stream",
     "text": [
      "10\n",
      "10\n"
     ]
    }
   ],
   "source": [
    "print(add(x=3, y=7))\n",
    "print(add(x=7, y=3))"
   ]
  },
  {
   "cell_type": "markdown",
   "metadata": {},
   "source": [
    "### 3) 매개변수 기본 값"
   ]
  },
  {
   "cell_type": "code",
   "execution_count": 7,
   "metadata": {},
   "outputs": [
    {
     "name": "stdout",
     "output_type": "stream",
     "text": [
      "6.0\n",
      "4.0\n"
     ]
    }
   ],
   "source": [
    "def divide(number, by=2):\n",
    "    return number/by\n",
    "\n",
    "print(divide(12))\n",
    "print(divide(12, 3))"
   ]
  },
  {
   "cell_type": "code",
   "execution_count": 8,
   "metadata": {},
   "outputs": [
    {
     "name": "stdout",
     "output_type": "stream",
     "text": [
      "8\n",
      "32\n",
      "128\n"
     ]
    }
   ],
   "source": [
    "def multiply(a=2, b=4):\n",
    "    return a * b\n",
    "print(multiply())\n",
    "print(multiply(8))\n",
    "print(multiply(8, 16))"
   ]
  },
  {
   "cell_type": "markdown",
   "metadata": {},
   "source": [
    "## 5. 반환(return)\n",
    "- return 문을 실행하면 함수의 실행이 종료되고, 지정한 값이 함수가 호출된 지점으로 반환된다.\n",
    "\n",
    "### 1) return문을 갖지 않는 함수\n",
    "- return문을 갖지 않는 함수는 None을 반환한다."
   ]
  },
  {
   "cell_type": "code",
   "execution_count": 9,
   "metadata": {},
   "outputs": [
    {
     "name": "stdout",
     "output_type": "stream",
     "text": [
      "안녕\n",
      "None\n"
     ]
    }
   ],
   "source": [
    "def hi():\n",
    "    print(\"안녕\")\n",
    "\n",
    "print(hi())"
   ]
  },
  {
   "cell_type": "markdown",
   "metadata": {},
   "source": [
    "### 2) 반환 값의 개수\n",
    "- 반환 값의 개수는 항상 1개이다."
   ]
  },
  {
   "cell_type": "code",
   "execution_count": 10,
   "metadata": {},
   "outputs": [
    {
     "name": "stdout",
     "output_type": "stream",
     "text": [
      "(7, 12)\n"
     ]
    }
   ],
   "source": [
    "def add_and_mul(x, y):\n",
    "    return x+y, x*y\n",
    "print(add_and_mul(3, 4))"
   ]
  },
  {
   "cell_type": "code",
   "execution_count": 11,
   "metadata": {},
   "outputs": [
    {
     "name": "stdout",
     "output_type": "stream",
     "text": [
      "7 12\n"
     ]
    }
   ],
   "source": [
    "a, b = add_and_mul(3, 4)\n",
    "print(a, b)"
   ]
  },
  {
   "cell_type": "markdown",
   "metadata": {},
   "source": [
    "## 6. 변수\n",
    "\n",
    "### 1) 지역 변수(local variable)\n",
    "- 함수의 지역 변수란 함수 안에서 정의된 변수를 말한다.\n",
    "- 함수의 지역 변수는 함수가 실행될 때 생성되고, 실행이 종료되면 삭제된다.\n",
    "- 함수의 지역 변수는 함수 바깥에서 사용할 수 없다.\n",
    "- 매개변수도 함수 안에서 정의되므로 지역 변수이다."
   ]
  },
  {
   "cell_type": "code",
   "execution_count": 14,
   "metadata": {},
   "outputs": [
    {
     "name": "stdout",
     "output_type": "stream",
     "text": [
      "180\n"
     ]
    }
   ],
   "source": [
    "def minutes_to_seconds(m):\n",
    "    s = m * 60\n",
    "    return s\n",
    "print(minutes_to_seconds(3))\n",
    "# print(s)"
   ]
  },
  {
   "cell_type": "code",
   "execution_count": 15,
   "metadata": {},
   "outputs": [
    {
     "ename": "NameError",
     "evalue": "name 'm' is not defined",
     "output_type": "error",
     "traceback": [
      "\u001b[1;31m---------------------------------------------------------------------------\u001b[0m",
      "\u001b[1;31mNameError\u001b[0m                                 Traceback (most recent call last)",
      "\u001b[1;32m<ipython-input-15-c384c0c7b6c7>\u001b[0m in \u001b[0;36m<module>\u001b[1;34m\u001b[0m\n\u001b[1;32m----> 1\u001b[1;33m \u001b[0mprint\u001b[0m\u001b[1;33m(\u001b[0m\u001b[0mm\u001b[0m\u001b[1;33m)\u001b[0m\u001b[1;33m\u001b[0m\u001b[1;33m\u001b[0m\u001b[0m\n\u001b[0m",
      "\u001b[1;31mNameError\u001b[0m: name 'm' is not defined"
     ]
    }
   ],
   "source": [
    "# print(m)"
   ]
  },
  {
   "cell_type": "markdown",
   "metadata": {},
   "source": [
    "### 2) 전역 변수(global variable)\n",
    "- 전역 변수는 함수 바깥에서 정의된 변수이다.\n",
    "- 전역 변수는 함수 안에서 사용할 수 있다.\n",
    "- 단, 전역 변수를 함수 안에서 수정할 수 없다."
   ]
  },
  {
   "cell_type": "code",
   "execution_count": 16,
   "metadata": {},
   "outputs": [
    {
     "name": "stdout",
     "output_type": "stream",
     "text": [
      "180\n"
     ]
    }
   ],
   "source": [
    "seconds_per_minute = 60\n",
    "\n",
    "def minutes_to_seconds(m):\n",
    "    s = m * seconds_per_minute\n",
    "    return s\n",
    "print(minutes_to_seconds(3))"
   ]
  },
  {
   "cell_type": "code",
   "execution_count": 17,
   "metadata": {},
   "outputs": [
    {
     "ename": "UnboundLocalError",
     "evalue": "local variable 'num_stamp' referenced before assignment",
     "output_type": "error",
     "traceback": [
      "\u001b[1;31m---------------------------------------------------------------------------\u001b[0m",
      "\u001b[1;31mUnboundLocalError\u001b[0m                         Traceback (most recent call last)",
      "\u001b[1;32m<ipython-input-17-c8527c9b0acf>\u001b[0m in \u001b[0;36m<module>\u001b[1;34m\u001b[0m\n\u001b[0;32m      3\u001b[0m     \u001b[0mnum_stamp\u001b[0m \u001b[1;33m+=\u001b[0m \u001b[1;36m1\u001b[0m\u001b[1;33m\u001b[0m\u001b[1;33m\u001b[0m\u001b[0m\n\u001b[0;32m      4\u001b[0m     \u001b[0mprint\u001b[0m\u001b[1;33m(\u001b[0m\u001b[0mnum_stamp\u001b[0m\u001b[1;33m)\u001b[0m\u001b[1;33m\u001b[0m\u001b[1;33m\u001b[0m\u001b[0m\n\u001b[1;32m----> 5\u001b[1;33m \u001b[0mstamp\u001b[0m\u001b[1;33m(\u001b[0m\u001b[1;33m)\u001b[0m\u001b[1;33m\u001b[0m\u001b[1;33m\u001b[0m\u001b[0m\n\u001b[0m",
      "\u001b[1;32m<ipython-input-17-c8527c9b0acf>\u001b[0m in \u001b[0;36mstamp\u001b[1;34m()\u001b[0m\n\u001b[0;32m      1\u001b[0m \u001b[0mnum_stamp\u001b[0m \u001b[1;33m=\u001b[0m \u001b[1;36m0\u001b[0m\u001b[1;33m\u001b[0m\u001b[1;33m\u001b[0m\u001b[0m\n\u001b[0;32m      2\u001b[0m \u001b[1;32mdef\u001b[0m \u001b[0mstamp\u001b[0m\u001b[1;33m(\u001b[0m\u001b[1;33m)\u001b[0m\u001b[1;33m:\u001b[0m\u001b[1;33m\u001b[0m\u001b[1;33m\u001b[0m\u001b[0m\n\u001b[1;32m----> 3\u001b[1;33m     \u001b[0mnum_stamp\u001b[0m \u001b[1;33m+=\u001b[0m \u001b[1;36m1\u001b[0m\u001b[1;33m\u001b[0m\u001b[1;33m\u001b[0m\u001b[0m\n\u001b[0m\u001b[0;32m      4\u001b[0m     \u001b[0mprint\u001b[0m\u001b[1;33m(\u001b[0m\u001b[0mnum_stamp\u001b[0m\u001b[1;33m)\u001b[0m\u001b[1;33m\u001b[0m\u001b[1;33m\u001b[0m\u001b[0m\n\u001b[0;32m      5\u001b[0m \u001b[0mstamp\u001b[0m\u001b[1;33m(\u001b[0m\u001b[1;33m)\u001b[0m\u001b[1;33m\u001b[0m\u001b[1;33m\u001b[0m\u001b[0m\n",
      "\u001b[1;31mUnboundLocalError\u001b[0m: local variable 'num_stamp' referenced before assignment"
     ]
    }
   ],
   "source": [
    "num_stamp = 0\n",
    "def stamp():\n",
    "    num_stamp += 1\n",
    "    print(num_stamp)\n",
    "stamp()"
   ]
  },
  {
   "cell_type": "code",
   "execution_count": 19,
   "metadata": {},
   "outputs": [],
   "source": [
    "hahaha = 0\n",
    "hahaha += 1"
   ]
  },
  {
   "cell_type": "code",
   "execution_count": 20,
   "metadata": {},
   "outputs": [
    {
     "name": "stdout",
     "output_type": "stream",
     "text": [
      "1\n"
     ]
    }
   ],
   "source": [
    "num_stamp = 0\n",
    "def stamp():\n",
    "    global num_stamp\n",
    "    num_stamp += 1\n",
    "    print(num_stamp)\n",
    "stamp()"
   ]
  },
  {
   "cell_type": "markdown",
   "metadata": {},
   "source": [
    "## 7. 람다(lambda)\n",
    "- 람다(lambda)는 이름 없는 함수이다.\n",
    "- 람다는 입력과 출력이 있는 간단한 한 줄짜리 함수를 만들 때 사용한다.\n",
    "- 람다는 함수 자체를 다른 함수의 인수로 입력할 때 사용한다."
   ]
  },
  {
   "cell_type": "raw",
   "metadata": {},
   "source": [
    "lambda 매개변수: 반환 값"
   ]
  },
  {
   "cell_type": "code",
   "execution_count": 21,
   "metadata": {},
   "outputs": [],
   "source": [
    "def f(x):\n",
    "    return x + 1"
   ]
  },
  {
   "cell_type": "code",
   "execution_count": 22,
   "metadata": {},
   "outputs": [
    {
     "data": {
      "text/plain": [
       "<function __main__.<lambda>(x)>"
      ]
     },
     "execution_count": 22,
     "metadata": {},
     "output_type": "execute_result"
    }
   ],
   "source": [
    "lambda x: x + 1"
   ]
  },
  {
   "cell_type": "markdown",
   "metadata": {},
   "source": [
    "## 8. 패킹(packing)과 언패킹(unpacking)\n",
    "\n",
    "### 1) 시퀀스\n",
    "\n",
    "#### 언패킹"
   ]
  },
  {
   "cell_type": "code",
   "execution_count": 24,
   "metadata": {},
   "outputs": [
    {
     "name": "stdout",
     "output_type": "stream",
     "text": [
      "2020년 7월 1일\n"
     ]
    }
   ],
   "source": [
    "def date_to_string(y, m, d):\n",
    "    return str(y) + \"년 \" + str(m) + \"월 \" + str(d) + \"일\"\n",
    "date = (2020, 7, 1)\n",
    "print(date_to_string(date[0], date[1], date[2]))"
   ]
  },
  {
   "cell_type": "code",
   "execution_count": 25,
   "metadata": {},
   "outputs": [
    {
     "name": "stdout",
     "output_type": "stream",
     "text": [
      "2020년 7월 1일\n"
     ]
    }
   ],
   "source": [
    "print(date_to_string(2020, *(7, 1)))"
   ]
  },
  {
   "cell_type": "code",
   "execution_count": 26,
   "metadata": {},
   "outputs": [
    {
     "name": "stdout",
     "output_type": "stream",
     "text": [
      "2020년 7월 1일\n"
     ]
    }
   ],
   "source": [
    "print(date_to_string(*[2020, 7, 1]))"
   ]
  },
  {
   "cell_type": "code",
   "execution_count": 28,
   "metadata": {},
   "outputs": [
    {
     "name": "stdout",
     "output_type": "stream",
     "text": [
      "2020년 7월 1일\n"
     ]
    }
   ],
   "source": [
    "print(date_to_string(*date))"
   ]
  },
  {
   "cell_type": "markdown",
   "metadata": {},
   "source": [
    "#### 패킹\n",
    "- 시퀀스를 풀어 매개변수에 할당하는 것과 반대로, 여러 개의 데이터를 시퀀스로 묶어 하나의 매개변수에 전달할 수 있다.\n",
    "- 함수에서 데이터를 시퀀스로 묶어 전달하려면 시퀀스 패킹 매개변수를 정의해야 한다.\n",
    "- 매개변수 목록을 정의할 때 시퀀스 패킹 매개변수로 사용할 변수의 이름 앞에 별 기호를 붙인다.\n",
    "- 시퀀스 패킹 매개변수의 이름은 자유롭게 지을 수 있다.\n",
    "- 주로 args라는 이름이 사용된다."
   ]
  },
  {
   "cell_type": "code",
   "execution_count": 3,
   "metadata": {},
   "outputs": [],
   "source": [
    "def mean(*args):\n",
    "    return sum(args) / len(args)"
   ]
  },
  {
   "cell_type": "code",
   "execution_count": 30,
   "metadata": {},
   "outputs": [
    {
     "name": "stdout",
     "output_type": "stream",
     "text": [
      "1.0\n"
     ]
    }
   ],
   "source": [
    "print(mean(1))"
   ]
  },
  {
   "cell_type": "code",
   "execution_count": 31,
   "metadata": {},
   "outputs": [
    {
     "name": "stdout",
     "output_type": "stream",
     "text": [
      "3.0\n"
     ]
    }
   ],
   "source": [
    "print(mean(1, 2, 3, 4, 5))"
   ]
  },
  {
   "cell_type": "code",
   "execution_count": 5,
   "metadata": {},
   "outputs": [
    {
     "data": {
      "text/plain": [
       "3.0"
      ]
     },
     "execution_count": 5,
     "metadata": {},
     "output_type": "execute_result"
    }
   ],
   "source": [
    "numbers = 1, 2, 3, 4, 5\n",
    "mean(*numbers)"
   ]
  },
  {
   "cell_type": "code",
   "execution_count": 35,
   "metadata": {},
   "outputs": [],
   "source": [
    "def add_many(*args):\n",
    "    result = 0\n",
    "    for i in args:\n",
    "        result += i\n",
    "    return result"
   ]
  },
  {
   "cell_type": "code",
   "execution_count": 36,
   "metadata": {},
   "outputs": [
    {
     "data": {
      "text/plain": [
       "55"
      ]
     },
     "execution_count": 36,
     "metadata": {},
     "output_type": "execute_result"
    }
   ],
   "source": [
    "add_many(1, 2, 3, 4, 5, 6, 7, 8, 9, 10)"
   ]
  },
  {
   "cell_type": "code",
   "execution_count": 39,
   "metadata": {},
   "outputs": [],
   "source": [
    "def add_mul(choice, *args):\n",
    "    if choice == \"add\":\n",
    "        result = 0\n",
    "        for i in args:\n",
    "            result += i\n",
    "    elif choice == \"mul\":\n",
    "        result = 1\n",
    "        for i in args:\n",
    "            result *= i\n",
    "    return result"
   ]
  },
  {
   "cell_type": "code",
   "execution_count": 40,
   "metadata": {},
   "outputs": [
    {
     "name": "stdout",
     "output_type": "stream",
     "text": [
      "15\n"
     ]
    }
   ],
   "source": [
    "print(add_mul(\"add\", 1, 2, 3, 4, 5))"
   ]
  },
  {
   "cell_type": "code",
   "execution_count": 41,
   "metadata": {},
   "outputs": [
    {
     "name": "stdout",
     "output_type": "stream",
     "text": [
      "120\n"
     ]
    }
   ],
   "source": [
    "print(add_mul(\"mul\", 1, 2, 3, 4, 5))"
   ]
  },
  {
   "cell_type": "markdown",
   "metadata": {},
   "source": [
    "### 2) 딕셔너리\n",
    "\n",
    "#### 언패킹"
   ]
  },
  {
   "cell_type": "code",
   "execution_count": 42,
   "metadata": {},
   "outputs": [
    {
     "data": {
      "text/plain": [
       "'2020년 7월 1일'"
      ]
     },
     "execution_count": 42,
     "metadata": {},
     "output_type": "execute_result"
    }
   ],
   "source": [
    "def date_to_string(y, m, d):\n",
    "    return str(y) + \"년 \" + str(m) + \"월 \" + str(d) + \"일\"\n",
    "date = {'y': 2020, 'm': 7, 'd': 1}\n",
    "date_to_string(date['y'], date['m'], date['d'])"
   ]
  },
  {
   "cell_type": "code",
   "execution_count": 43,
   "metadata": {},
   "outputs": [
    {
     "data": {
      "text/plain": [
       "'2020년 7월 1일'"
      ]
     },
     "execution_count": 43,
     "metadata": {},
     "output_type": "execute_result"
    }
   ],
   "source": [
    "date_to_string(**date)"
   ]
  },
  {
   "cell_type": "markdown",
   "metadata": {},
   "source": [
    "#### 패킹"
   ]
  },
  {
   "cell_type": "code",
   "execution_count": 50,
   "metadata": {},
   "outputs": [],
   "source": [
    "def print_kwargs(**kwargs):\n",
    "    print(kwargs)"
   ]
  },
  {
   "cell_type": "code",
   "execution_count": 51,
   "metadata": {},
   "outputs": [
    {
     "name": "stdout",
     "output_type": "stream",
     "text": [
      "{'father': '김은지', 'mother': '심희원', 'sister': '박예원', 'cat': '김수인'}\n"
     ]
    }
   ],
   "source": [
    "print_kwargs(father='김은지', mother='심희원', sister='박예원', cat='김수인')"
   ]
  },
  {
   "cell_type": "code",
   "execution_count": 52,
   "metadata": {},
   "outputs": [
    {
     "name": "stdout",
     "output_type": "stream",
     "text": [
      "{'father': '김은지', 'mother': '심희원', 'sister': '박예원', 'cat': '김수인'}\n"
     ]
    }
   ],
   "source": [
    "family_dict = {\n",
    "    'father': '김은지',\n",
    "    'mother': '심희원',\n",
    "    'sister': '박예원',\n",
    "    'cat': '김수인',\n",
    "}\n",
    "print_kwargs(**family_dict)"
   ]
  },
  {
   "cell_type": "code",
   "execution_count": 53,
   "metadata": {},
   "outputs": [],
   "source": [
    "def date_to_string(y, m, d, **kwargs):\n",
    "    date_string = str(y) + \"년 \" + str(m) + \"월 \" + str(d) + \"일\"\n",
    "    date_string += ' ' + str(kwargs.get('h')) + '시'\n",
    "    return date_string"
   ]
  },
  {
   "cell_type": "code",
   "execution_count": 55,
   "metadata": {},
   "outputs": [
    {
     "name": "stdout",
     "output_type": "stream",
     "text": [
      "2020년 7월 2일 12시\n"
     ]
    }
   ],
   "source": [
    "print(date_to_string(2020, 7, 2, h = 12))"
   ]
  },
  {
   "cell_type": "code",
   "execution_count": null,
   "metadata": {},
   "outputs": [],
   "source": [
    "def some_func(fargs, *args, **kwargs):\n",
    "    pass"
   ]
  },
  {
   "cell_type": "markdown",
   "metadata": {},
   "source": [
    "## * mutable과 immtable한 인자\n",
    "\n",
    "### 1) immutable한 자료형\n",
    "- immutable한 자료형을 함수의 인자로 전달하는 경우 함수 안에서 값을 변경하더라도 함수 바깥에서 값이 변경되지 않는다."
   ]
  },
  {
   "cell_type": "code",
   "execution_count": 56,
   "metadata": {},
   "outputs": [
    {
     "name": "stdout",
     "output_type": "stream",
     "text": [
      "1 2\n"
     ]
    }
   ],
   "source": [
    "def foo(a, b):\n",
    "    a = 100\n",
    "    b = 200\n",
    "    \n",
    "a = 1\n",
    "b = 2\n",
    "foo(a, b)\n",
    "print(a, b)"
   ]
  },
  {
   "cell_type": "markdown",
   "metadata": {},
   "source": [
    "### 2) mutable한 자료형\n",
    "- mutable 자료형을 함수의 인자로 전달하는 경우 함수 안에서 값을 변경할 수 있다."
   ]
  },
  {
   "cell_type": "code",
   "execution_count": 57,
   "metadata": {},
   "outputs": [
    {
     "name": "stdout",
     "output_type": "stream",
     "text": [
      "[1, 2, 3, 100]\n"
     ]
    }
   ],
   "source": [
    "def foo(x):\n",
    "    x.append(100)\n",
    "\n",
    "x = [1, 2, 3]\n",
    "foo(x)\n",
    "print(x)"
   ]
  },
  {
   "cell_type": "markdown",
   "metadata": {},
   "source": [
    "## * 독스트링(docstring)\n",
    "- 독스트링(docstring)이란 help() 함수가 보여주는 도움말이다."
   ]
  },
  {
   "cell_type": "code",
   "execution_count": 58,
   "metadata": {},
   "outputs": [
    {
     "name": "stdout",
     "output_type": "stream",
     "text": [
      "Help on function order in module __main__:\n",
      "\n",
      "order()\n",
      "    이것은 도움말입니다\n",
      "\n"
     ]
    }
   ],
   "source": [
    "def order():\n",
    "    \"이것은 도움말입니다\"\n",
    "    print('주문하실 음료를 알려주세요')\n",
    "    drink = input()\n",
    "    print(drink, '주문하셨습니다.')\n",
    "    \n",
    "help(order)"
   ]
  },
  {
   "cell_type": "markdown",
   "metadata": {},
   "source": [
    "## * 중첩된 함수\n",
    "- 파이썬에서는 중첩된 함수를 정의하여 사용할 수 있다.\n",
    "- 안쪽 함수는 바깥쪽 함수의 변수를 마치 전역 변수처럼 사용한다."
   ]
  },
  {
   "cell_type": "code",
   "execution_count": 59,
   "metadata": {},
   "outputs": [
    {
     "name": "stdout",
     "output_type": "stream",
     "text": [
      "[1, 2, 3]\n"
     ]
    }
   ],
   "source": [
    "def outside():\n",
    "    outsideList = [1, 2]\n",
    "    def nested():\n",
    "        outsideList.append(3)\n",
    "    nested()\n",
    "    return outsideList\n",
    "print(outside())"
   ]
  },
  {
   "cell_type": "code",
   "execution_count": null,
   "metadata": {},
   "outputs": [],
   "source": []
  }
 ],
 "metadata": {
  "kernelspec": {
   "display_name": "Python 3",
   "language": "python",
   "name": "python3"
  },
  "language_info": {
   "codemirror_mode": {
    "name": "ipython",
    "version": 3
   },
   "file_extension": ".py",
   "mimetype": "text/x-python",
   "name": "python",
   "nbconvert_exporter": "python",
   "pygments_lexer": "ipython3",
   "version": "3.7.6"
  }
 },
 "nbformat": 4,
 "nbformat_minor": 2
}
