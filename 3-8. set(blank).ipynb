{
 "cells": [
  {
   "cell_type": "markdown",
   "metadata": {},
   "source": [
    "## 8. 집합(Set)\n",
    "- 집합은 포함되어야 하는 데이터의 묶음을 나타내는 데이터 구조이다.\n",
    "\n",
    "#### 집합(set)\n",
    "- 집합은 순서(sequence)나 키(key)를 갖지 않는다.\n",
    "- 집합은 동일한 데이터를 중복으로 저장할 수 없다.\n",
    "- 집합은 수학의 집합 연산이 가능하다."
   ]
  },
  {
   "cell_type": "markdown",
   "metadata": {},
   "source": [
    "### 1) 집합 생성\n",
    "- 집합은 중괄호({})를 사용하여 값을 묶는다.\n",
    "- 각 원소는 쉽표(,)로 구분한다.\n",
    "- 집합은 변경할 수 없는 자료형(immutable)만 담을 수 있다.\n",
    "- 집합은 서로 다른 자료형을 담을 수 있다."
   ]
  },
  {
   "cell_type": "markdown",
   "metadata": {},
   "source": [
    "#### 공집합"
   ]
  },
  {
   "cell_type": "code",
   "execution_count": 2,
   "metadata": {},
   "outputs": [
    {
     "data": {
      "text/plain": [
       "dict"
      ]
     },
     "execution_count": 2,
     "metadata": {},
     "output_type": "execute_result"
    }
   ],
   "source": [
    "type({})"
   ]
  },
  {
   "cell_type": "code",
   "execution_count": 1,
   "metadata": {},
   "outputs": [
    {
     "data": {
      "text/plain": [
       "set"
      ]
     },
     "execution_count": 1,
     "metadata": {},
     "output_type": "execute_result"
    }
   ],
   "source": [
    "type(set())"
   ]
  },
  {
   "cell_type": "markdown",
   "metadata": {},
   "source": [
    "#### 원소가 하나 이상인 집합"
   ]
  },
  {
   "cell_type": "code",
   "execution_count": 3,
   "metadata": {},
   "outputs": [
    {
     "name": "stdout",
     "output_type": "stream",
     "text": [
      "<class 'set'>\n",
      "<class 'set'>\n",
      "<class 'set'>\n"
     ]
    }
   ],
   "source": [
    "print(type({0, -127, 123, 'asdf'}))\n",
    "print(type({'i', 'e', 'a', 'u', 'o'}))\n",
    "print(type({(1, 2), (3, 4)}))"
   ]
  },
  {
   "cell_type": "markdown",
   "metadata": {},
   "source": [
    "#### 서로 다른 자료형을 담은 집합"
   ]
  },
  {
   "cell_type": "code",
   "execution_count": 4,
   "metadata": {},
   "outputs": [
    {
     "name": "stdout",
     "output_type": "stream",
     "text": [
      "<class 'set'>\n"
     ]
    }
   ],
   "source": [
    "print(type({'a', 1}))"
   ]
  },
  {
   "cell_type": "markdown",
   "metadata": {},
   "source": [
    "#### 클래스 생성자"
   ]
  },
  {
   "cell_type": "code",
   "execution_count": 5,
   "metadata": {},
   "outputs": [
    {
     "name": "stdout",
     "output_type": "stream",
     "text": [
      "{'Y', 'H', 'A', 'P'}\n",
      "{1, 2, 3, 4, 5, 6}\n",
      "{'토마토', '사과', '바나나', '감'}\n"
     ]
    }
   ],
   "source": [
    "# 시퀀스 변환\n",
    "print(set('HAPPY'))\n",
    "print(set([6, 1, 1, 2, 3, 3, 1, 5, 5, 4]))\n",
    "print(set(('사과', '토마토', '바나나', '감')))"
   ]
  },
  {
   "cell_type": "code",
   "execution_count": 7,
   "metadata": {},
   "outputs": [
    {
     "name": "stdout",
     "output_type": "stream",
     "text": [
      "{0, 2, 4, 6, 8}\n",
      "{1, 3, 5, 7, 9}\n"
     ]
    }
   ],
   "source": [
    "# 레인지 변환\n",
    "even = set(range(0, 10, 2))\n",
    "odd = set(range(1, 10, 2))\n",
    "print(even)\n",
    "print(odd)"
   ]
  },
  {
   "cell_type": "markdown",
   "metadata": {},
   "source": [
    "#### 중복 원소 제거"
   ]
  },
  {
   "cell_type": "code",
   "execution_count": 8,
   "metadata": {},
   "outputs": [
    {
     "data": {
      "text/plain": [
       "[1, 2, 3, 4, 5, 6]"
      ]
     },
     "execution_count": 8,
     "metadata": {},
     "output_type": "execute_result"
    }
   ],
   "source": [
    " list(set([6, 1, 1, 2, 3, 3, 1, 5, 5, 4]))"
   ]
  },
  {
   "cell_type": "markdown",
   "metadata": {},
   "source": [
    "### 2) 집합 연산"
   ]
  },
  {
   "cell_type": "markdown",
   "metadata": {},
   "source": [
    "#### 집합 대입"
   ]
  },
  {
   "cell_type": "code",
   "execution_count": 10,
   "metadata": {},
   "outputs": [],
   "source": [
    "wildanimal = {'사자', '박쥐', '늑대', '곰'}\n",
    "flyanimal = {'독수리', '매', '박쥐'}\n",
    "seaanimal = {'참치', '상어', '문어'}"
   ]
  },
  {
   "cell_type": "markdown",
   "metadata": {},
   "source": [
    "#### 집합 길이(length)"
   ]
  },
  {
   "cell_type": "code",
   "execution_count": 11,
   "metadata": {},
   "outputs": [
    {
     "data": {
      "text/plain": [
       "4"
      ]
     },
     "execution_count": 11,
     "metadata": {},
     "output_type": "execute_result"
    }
   ],
   "source": [
    "len(wildanimal)"
   ]
  },
  {
   "cell_type": "markdown",
   "metadata": {},
   "source": [
    "#### 멤버 연산자"
   ]
  },
  {
   "cell_type": "code",
   "execution_count": 12,
   "metadata": {},
   "outputs": [
    {
     "name": "stdout",
     "output_type": "stream",
     "text": [
      "True\n",
      "False\n"
     ]
    }
   ],
   "source": [
    "print('늑대' in wildanimal)\n",
    "print('곰' not in wildanimal)"
   ]
  },
  {
   "cell_type": "markdown",
   "metadata": {},
   "source": [
    "#### 참고\n",
    "- 시퀀스의 멤버 연산은 요소를 처음부터 끝까지 순서대로 하나씩 찾는다.\n",
    "- 집합의 멤버 연산은 해시 알고리즘을 사용하여 한 번에 찾는다.\n",
    "- 데이터 양이 많을수록 시퀀스보다 집합의 연산 방식이 유리하기 때문에 멤버 연산을 자주 수행하는 컬렉션을 정의할 때는 집합으로 정의하는 것을 고려한다."
   ]
  },
  {
   "cell_type": "markdown",
   "metadata": {},
   "source": [
    "#### 합집합\n",
    "- | 연산자\n",
    "- union()"
   ]
  },
  {
   "cell_type": "code",
   "execution_count": 13,
   "metadata": {},
   "outputs": [
    {
     "name": "stdout",
     "output_type": "stream",
     "text": [
      "{'매', '곰', '사자', '박쥐', '늑대', '독수리'}\n",
      "{'매', '인간', '곰', '사자', '박쥐', '늑대', '독수리'}\n"
     ]
    }
   ],
   "source": [
    "print(wildanimal | flyanimal)\n",
    "print(wildanimal | flyanimal | {'인간'})"
   ]
  },
  {
   "cell_type": "code",
   "execution_count": 15,
   "metadata": {},
   "outputs": [
    {
     "name": "stdout",
     "output_type": "stream",
     "text": [
      "{'매', '곰', '사자', '박쥐', '늑대', '독수리'}\n"
     ]
    }
   ],
   "source": [
    "animal = wildanimal.union(flyanimal)\n",
    "print(animal)"
   ]
  },
  {
   "cell_type": "markdown",
   "metadata": {},
   "source": [
    "#### 교집합\n",
    "- & 연산자\n",
    "- intersection()"
   ]
  },
  {
   "cell_type": "code",
   "execution_count": 16,
   "metadata": {},
   "outputs": [
    {
     "name": "stdout",
     "output_type": "stream",
     "text": [
      "{'박쥐'}\n"
     ]
    }
   ],
   "source": [
    "print(wildanimal & flyanimal)"
   ]
  },
  {
   "cell_type": "code",
   "execution_count": 17,
   "metadata": {},
   "outputs": [
    {
     "name": "stdout",
     "output_type": "stream",
     "text": [
      "{'박쥐'}\n",
      "set()\n"
     ]
    }
   ],
   "source": [
    "print(wildanimal.intersection(flyanimal))\n",
    "print(wildanimal.intersection(seaanimal))"
   ]
  },
  {
   "cell_type": "markdown",
   "metadata": {},
   "source": [
    "#### 차집합"
   ]
  },
  {
   "cell_type": "markdown",
   "metadata": {},
   "source": [
    "- - 연산자\n",
    "- difference()"
   ]
  },
  {
   "cell_type": "code",
   "execution_count": 18,
   "metadata": {},
   "outputs": [
    {
     "name": "stdout",
     "output_type": "stream",
     "text": [
      "{'매', '독수리'}\n"
     ]
    }
   ],
   "source": [
    "print(flyanimal - wildanimal)"
   ]
  },
  {
   "cell_type": "code",
   "execution_count": 19,
   "metadata": {},
   "outputs": [
    {
     "name": "stdout",
     "output_type": "stream",
     "text": [
      "{'사자', '늑대', '곰'}\n"
     ]
    }
   ],
   "source": [
    "print(animal.difference(flyanimal))"
   ]
  },
  {
   "cell_type": "markdown",
   "metadata": {},
   "source": [
    "#### 대칭차\n",
    "- 한 집합에는 속하지만 두 집합 모두에는 속하지는 않는 원소들의 집합이다. 즉, 합집합 - 교집합이다.\n",
    "- ^ 연산자\n",
    "- symmetric_difference()"
   ]
  },
  {
   "cell_type": "code",
   "execution_count": 20,
   "metadata": {},
   "outputs": [
    {
     "name": "stdout",
     "output_type": "stream",
     "text": [
      "{'사자', '매', '곰', '늑대', '독수리'}\n"
     ]
    }
   ],
   "source": [
    "print(wildanimal ^ flyanimal)"
   ]
  },
  {
   "cell_type": "code",
   "execution_count": 21,
   "metadata": {},
   "outputs": [
    {
     "name": "stdout",
     "output_type": "stream",
     "text": [
      "{'사자', '매', '곰', '늑대', '독수리'}\n"
     ]
    }
   ],
   "source": [
    "print(wildanimal.symmetric_difference(flyanimal))"
   ]
  },
  {
   "cell_type": "markdown",
   "metadata": {},
   "source": [
    "#### 부분집합\n",
    "- <= 연산자\n",
    "- issubset()"
   ]
  },
  {
   "cell_type": "code",
   "execution_count": 24,
   "metadata": {},
   "outputs": [
    {
     "name": "stdout",
     "output_type": "stream",
     "text": [
      "True\n",
      "False\n"
     ]
    }
   ],
   "source": [
    "print(wildanimal <= animal)\n",
    "print(wildanimal <= flyanimal)"
   ]
  },
  {
   "cell_type": "code",
   "execution_count": 25,
   "metadata": {},
   "outputs": [
    {
     "name": "stdout",
     "output_type": "stream",
     "text": [
      "True\n",
      "False\n"
     ]
    }
   ],
   "source": [
    "print(wildanimal.issubset(animal))\n",
    "print(wildanimal.issubset(flyanimal))"
   ]
  },
  {
   "cell_type": "markdown",
   "metadata": {},
   "source": [
    "#### 상위집합\n",
    "- >= 연산자\n",
    "- issuperset()"
   ]
  },
  {
   "cell_type": "markdown",
   "metadata": {},
   "source": [
    "#### 서로소 집합\n",
    "- 서로소 집합은 공통 원소가 없는 두 집합이다.\n",
    "- isdisjoint()"
   ]
  },
  {
   "cell_type": "code",
   "execution_count": 26,
   "metadata": {},
   "outputs": [
    {
     "name": "stdout",
     "output_type": "stream",
     "text": [
      "False\n",
      "True\n"
     ]
    }
   ],
   "source": [
    "print(wildanimal.isdisjoint(flyanimal))\n",
    "print(wildanimal.isdisjoint(seaanimal))"
   ]
  },
  {
   "cell_type": "markdown",
   "metadata": {},
   "source": [
    "### 3) mutable 객체\n",
    "- 집합의 원소는 변경할 수 있다."
   ]
  },
  {
   "cell_type": "markdown",
   "metadata": {},
   "source": [
    "#### 원소 추가\n",
    "- add()\n",
    "- update()"
   ]
  },
  {
   "cell_type": "code",
   "execution_count": 28,
   "metadata": {},
   "outputs": [
    {
     "name": "stdout",
     "output_type": "stream",
     "text": [
      "{'사자', '박쥐', '인간', '곰', '늑대'}\n"
     ]
    }
   ],
   "source": [
    "wildanimal.add('인간')\n",
    "print(wildanimal)"
   ]
  },
  {
   "cell_type": "code",
   "execution_count": 34,
   "metadata": {},
   "outputs": [
    {
     "name": "stdout",
     "output_type": "stream",
     "text": [
      "{'사자', '사슴', '박쥐', '인간', '곰', '늑대', '토끼'}\n"
     ]
    }
   ],
   "source": [
    "wildanimal = {'사자', '박쥐', '인간', '곰', '늑대'}\n",
    "wildanimal.update(['사슴', '토끼'])\n",
    "print(wildanimal)"
   ]
  },
  {
   "cell_type": "markdown",
   "metadata": {},
   "source": [
    "#### 원소 제거\n",
    "- remove()\n",
    "- discard()\n",
    "- pop()\n",
    "- clear()"
   ]
  },
  {
   "cell_type": "code",
   "execution_count": 35,
   "metadata": {},
   "outputs": [
    {
     "name": "stdout",
     "output_type": "stream",
     "text": [
      "{'사자', '사슴', '박쥐', '인간', '늑대', '토끼'}\n"
     ]
    }
   ],
   "source": [
    "wildanimal.remove('곰')\n",
    "print(wildanimal)"
   ]
  },
  {
   "cell_type": "code",
   "execution_count": 37,
   "metadata": {},
   "outputs": [
    {
     "name": "stdout",
     "output_type": "stream",
     "text": [
      "{'사자', '사슴', '박쥐', '늑대', '토끼'}\n"
     ]
    }
   ],
   "source": [
    "wildanimal.discard('인간')\n",
    "print(wildanimal)"
   ]
  },
  {
   "cell_type": "code",
   "execution_count": 38,
   "metadata": {},
   "outputs": [
    {
     "name": "stdout",
     "output_type": "stream",
     "text": [
      "사자\n",
      "{'사슴', '박쥐', '늑대', '토끼'}\n"
     ]
    }
   ],
   "source": [
    "print(wildanimal.pop())\n",
    "print(wildanimal)"
   ]
  },
  {
   "cell_type": "code",
   "execution_count": 39,
   "metadata": {},
   "outputs": [
    {
     "name": "stdout",
     "output_type": "stream",
     "text": [
      "set()\n"
     ]
    }
   ],
   "source": [
    "wildanimal.clear()\n",
    "print(wildanimal)"
   ]
  },
  {
   "cell_type": "markdown",
   "metadata": {},
   "source": [
    "### 4) 프로즌 셋(Frozenset)\n",
    "- 변경할 수 없는(immutable) 집합 컬렉션이다.\n",
    "- 공집합 프로즌셋 frozenset()\n",
    "- 집합 변환 frozenset({원소 1, 원소 2, 원소 3, ...})\n",
    "- 시퀀스 변환 frozenset([원소 1, 원소 2, 원소 3, ...])"
   ]
  },
  {
   "cell_type": "code",
   "execution_count": null,
   "metadata": {},
   "outputs": [],
   "source": []
  }
 ],
 "metadata": {
  "kernelspec": {
   "display_name": "Python 3",
   "language": "python",
   "name": "python3"
  },
  "language_info": {
   "codemirror_mode": {
    "name": "ipython",
    "version": 3
   },
   "file_extension": ".py",
   "mimetype": "text/x-python",
   "name": "python",
   "nbconvert_exporter": "python",
   "pygments_lexer": "ipython3",
   "version": "3.7.6"
  }
 },
 "nbformat": 4,
 "nbformat_minor": 2
}
