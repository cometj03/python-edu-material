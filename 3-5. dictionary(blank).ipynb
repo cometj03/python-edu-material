{
 "cells": [
  {
   "cell_type": "markdown",
   "metadata": {},
   "source": [
    "## 5. 딕셔너리(Dictionary)\n",
    "- 딕셔너리는 대응 관계를 나타내는 데이터 구조이다.\n",
    "- 키(Key)와 값(Value)을 한 쌍으로 갖는다.\n",
    "- 키를 통해 값을 얻는다.\n",
    "\n",
    "#### 매핑(mapping)\n",
    "- 키(Key)와 값(Value)을 짝지어 저장하는 자료 구조(Data Structure)이다.\n",
    "- 데이터를 저장할 때 의미있는 식별자(이름)가 필요할 때 사용한다.\n",
    "- 키는 데이터를 식별하고 지정하는 역할을 한다.\n",
    "- 사전(dict), 기본 값 사전(defaultdict) 등이 있다.\n",
    "\n",
    "#### 참고\n",
    "- 해시 맵(hash map)\n",
    "- 해시 테이블(hash table)\n",
    "- 연관 배열(associative array)\n",
    "\n",
    "### 1) 딕셔너리 생성\n",
    "- 딕셔너리는 중괄호({})를 사용하여 키와 값을 묶고 콜론(:)을 사용하여 키와 값을 연결한다.\n",
    "- 각 쌍은 쉽표(,)로 구분한다.\n",
    "- 키는 변경할 수 없는 자료형(immutable)을 사용한다.\n",
    "- 값은 어떠한 자료형도 사용할 수 있다."
   ]
  },
  {
   "cell_type": "markdown",
   "metadata": {},
   "source": [
    "#### 빈 딕셔너리"
   ]
  },
  {
   "cell_type": "code",
   "execution_count": 1,
   "metadata": {},
   "outputs": [
    {
     "data": {
      "text/plain": [
       "dict"
      ]
     },
     "execution_count": 1,
     "metadata": {},
     "output_type": "execute_result"
    }
   ],
   "source": [
    "type({})"
   ]
  },
  {
   "cell_type": "markdown",
   "metadata": {},
   "source": [
    "#### 여러 가지 자료형을 키로 사용한 딕셔너리"
   ]
  },
  {
   "cell_type": "code",
   "execution_count": 2,
   "metadata": {},
   "outputs": [
    {
     "name": "stdout",
     "output_type": "stream",
     "text": [
      "{1004: 'value', (1, 2, 3): 'value', 'key': 'value'}\n"
     ]
    }
   ],
   "source": [
    "print({1004: 'value', (1, 2, 3): 'value', 'key': 'value'})"
   ]
  },
  {
   "cell_type": "markdown",
   "metadata": {},
   "source": [
    "- 키는 1004, (1, 2, 3), 'key'이다.\n",
    "- 정수, 문자열, 튜플 등 변경할 수 없는 자료형(immutable)을 키로 사용한다.\n",
    "- 변경할 수 있는 자료형(mutable)을 담은 튜플은 키로 사용할 수 없다."
   ]
  },
  {
   "cell_type": "markdown",
   "metadata": {},
   "source": [
    "### 2) 딕셔너리 연산"
   ]
  },
  {
   "cell_type": "markdown",
   "metadata": {},
   "source": [
    "#### 딕셔너리 대입"
   ]
  },
  {
   "cell_type": "code",
   "execution_count": 4,
   "metadata": {},
   "outputs": [
    {
     "name": "stdout",
     "output_type": "stream",
     "text": [
      "{'cat': '고양이', 'hammer': '망치', 'rainbow': '무지개', 'book': '책'}\n"
     ]
    }
   ],
   "source": [
    "word_dict = {\n",
    "    'cat': '고양이',\n",
    "    'hammer': '망치',\n",
    "    'rainbow': '무지개',\n",
    "    'book': '책',\n",
    "}\n",
    "print(word_dict)"
   ]
  },
  {
   "cell_type": "markdown",
   "metadata": {},
   "source": [
    "#### 딕셔너리 길이(length)"
   ]
  },
  {
   "cell_type": "code",
   "execution_count": 5,
   "metadata": {},
   "outputs": [
    {
     "data": {
      "text/plain": [
       "0"
      ]
     },
     "execution_count": 5,
     "metadata": {},
     "output_type": "execute_result"
    }
   ],
   "source": [
    "len({})"
   ]
  },
  {
   "cell_type": "code",
   "execution_count": 6,
   "metadata": {},
   "outputs": [
    {
     "data": {
      "text/plain": [
       "4"
      ]
     },
     "execution_count": 6,
     "metadata": {},
     "output_type": "execute_result"
    }
   ],
   "source": [
    "len(word_dict)"
   ]
  },
  {
   "cell_type": "markdown",
   "metadata": {},
   "source": [
    "- 딕셔너리에 포함된 요소(키-값 쌍)의 개수는 len() 함수로 구할 수 있다.\n",
    "- 딕셔너리에서 하나의 키-값 쌍은 요소 하나로 취급한다."
   ]
  },
  {
   "cell_type": "markdown",
   "metadata": {},
   "source": [
    "#### 멤버 연산자"
   ]
  },
  {
   "cell_type": "code",
   "execution_count": 7,
   "metadata": {},
   "outputs": [
    {
     "name": "stdout",
     "output_type": "stream",
     "text": [
      "True\n",
      "True\n",
      "False\n"
     ]
    }
   ],
   "source": [
    "print('cat' in word_dict)\n",
    "print('dog' not in word_dict)\n",
    "print('망치' in word_dict)"
   ]
  },
  {
   "cell_type": "markdown",
   "metadata": {},
   "source": [
    "- 시퀀스에서는 단순히 어떤 요소가 있는지를 검사한다.\n",
    "- 매핑에서는 값이 아니라 키가 있는지 검사한다."
   ]
  },
  {
   "cell_type": "markdown",
   "metadata": {},
   "source": [
    "#### 클래스 생성자"
   ]
  },
  {
   "cell_type": "code",
   "execution_count": 8,
   "metadata": {},
   "outputs": [
    {
     "name": "stdout",
     "output_type": "stream",
     "text": [
      "{'name': '김선린', 'height': 168, 'weight': 60}\n"
     ]
    }
   ],
   "source": [
    "student1 = dict({'name': '김선린', 'height': 168, 'weight': 60})\n",
    "print(student1)"
   ]
  },
  {
   "cell_type": "code",
   "execution_count": 10,
   "metadata": {},
   "outputs": [
    {
     "name": "stdout",
     "output_type": "stream",
     "text": [
      "{'name': '김선린', 'height': 168, 'weight': 60}\n"
     ]
    }
   ],
   "source": [
    "student2 = dict(name = '김선린', height = 168, weight = 60)\n",
    "print(student2)"
   ]
  },
  {
   "cell_type": "markdown",
   "metadata": {},
   "source": [
    "- 키에 따옴표('', \"\")를 사용하지 않는다.\n",
    "- 키는 문자열로 변환된다.\n",
    "- 값을 할당할 때 '='를 사용한다."
   ]
  },
  {
   "cell_type": "markdown",
   "metadata": {},
   "source": [
    "### 3) 딕셔너리 인덱싱(indexing)"
   ]
  },
  {
   "cell_type": "markdown",
   "metadata": {},
   "source": [
    "#### 존재하지 않는 키"
   ]
  },
  {
   "cell_type": "code",
   "execution_count": 11,
   "metadata": {},
   "outputs": [
    {
     "ename": "KeyError",
     "evalue": "'dog'",
     "output_type": "error",
     "traceback": [
      "\u001b[1;31m---------------------------------------------------------------------------\u001b[0m",
      "\u001b[1;31mKeyError\u001b[0m                                  Traceback (most recent call last)",
      "\u001b[1;32m<ipython-input-11-09e074d17896>\u001b[0m in \u001b[0;36m<module>\u001b[1;34m\u001b[0m\n\u001b[1;32m----> 1\u001b[1;33m \u001b[0mprint\u001b[0m\u001b[1;33m(\u001b[0m\u001b[0mword_dict\u001b[0m\u001b[1;33m[\u001b[0m\u001b[1;34m'dog'\u001b[0m\u001b[1;33m]\u001b[0m\u001b[1;33m)\u001b[0m\u001b[1;33m\u001b[0m\u001b[1;33m\u001b[0m\u001b[0m\n\u001b[0m",
      "\u001b[1;31mKeyError\u001b[0m: 'dog'"
     ]
    }
   ],
   "source": [
    "print(word_dict['dog'])"
   ]
  },
  {
   "cell_type": "markdown",
   "metadata": {},
   "source": [
    "#### 존재하는 키"
   ]
  },
  {
   "cell_type": "code",
   "execution_count": 12,
   "metadata": {},
   "outputs": [
    {
     "name": "stdout",
     "output_type": "stream",
     "text": [
      "고양이\n"
     ]
    }
   ],
   "source": [
    "print(word_dict['cat'])"
   ]
  },
  {
   "cell_type": "markdown",
   "metadata": {},
   "source": [
    "#### 중복되는 키"
   ]
  },
  {
   "cell_type": "code",
   "execution_count": 16,
   "metadata": {},
   "outputs": [
    {
     "name": "stdout",
     "output_type": "stream",
     "text": [
      "{1: 'c'}\n",
      "c\n"
     ]
    }
   ],
   "source": [
    "a = {1: 'a', 1: 'b', 1: 'c'}\n",
    "print(a)\n",
    "print(a[1])"
   ]
  },
  {
   "cell_type": "markdown",
   "metadata": {},
   "source": [
    "- 동일한 키가 존재하면 어떤 키에 해당하는 값인지 알 수 없다.\n",
    "- 따라서 하나를 제외한 나머지는 모두 무시된다.\n",
    "- 어떤 값이 무시될지 알 수 없다."
   ]
  },
  {
   "cell_type": "markdown",
   "metadata": {},
   "source": [
    "#### mutable 객체\n",
    "- 딕셔너리의 요소는 변경할 수 있다."
   ]
  },
  {
   "cell_type": "code",
   "execution_count": 18,
   "metadata": {},
   "outputs": [
    {
     "name": "stdout",
     "output_type": "stream",
     "text": [
      "{'cat': '고양이', 'hammer': '망치', 'rainbow': '무지개', 'book': '책', 'moon': '달'}\n",
      "달\n"
     ]
    }
   ],
   "source": [
    "# 요소 추가\n",
    "word_dict['moon'] = '달'\n",
    "print(word_dict)\n",
    "print(word_dict['moon'])"
   ]
  },
  {
   "cell_type": "code",
   "execution_count": 19,
   "metadata": {},
   "outputs": [
    {
     "name": "stdout",
     "output_type": "stream",
     "text": [
      "{'cat': '야옹이', 'hammer': '망치', 'rainbow': '무지개', 'book': '책', 'moon': '달'}\n"
     ]
    }
   ],
   "source": [
    "# 요소 수정\n",
    "word_dict['cat'] = '야옹이'\n",
    "print(word_dict)"
   ]
  },
  {
   "cell_type": "code",
   "execution_count": 20,
   "metadata": {},
   "outputs": [
    {
     "name": "stdout",
     "output_type": "stream",
     "text": [
      "{'cat': '야옹이', 'rainbow': '무지개', 'book': '책', 'moon': '달'}\n"
     ]
    }
   ],
   "source": [
    "# 요소 삭제\n",
    "del word_dict['hammer']\n",
    "print(word_dict)"
   ]
  },
  {
   "cell_type": "markdown",
   "metadata": {},
   "source": [
    "### 4) 딕셔너리 메소드(method)"
   ]
  },
  {
   "cell_type": "markdown",
   "metadata": {},
   "source": [
    "#### 요소 검색\n",
    "- get()"
   ]
  },
  {
   "cell_type": "code",
   "execution_count": 24,
   "metadata": {},
   "outputs": [
    {
     "name": "stdout",
     "output_type": "stream",
     "text": [
      "야옹이\n",
      "None\n",
      "동물\n"
     ]
    }
   ],
   "source": [
    "print(word_dict.get('cat', '동물'))\n",
    "print(word_dict.get('dog'))\n",
    "print(word_dict.get('dog', '동물'))"
   ]
  },
  {
   "cell_type": "markdown",
   "metadata": {},
   "source": [
    "#### 요소 추가 및 수정\n",
    "- update()"
   ]
  },
  {
   "cell_type": "code",
   "execution_count": 25,
   "metadata": {},
   "outputs": [
    {
     "name": "stdout",
     "output_type": "stream",
     "text": [
      "{'cat': '야옹이', 'rainbow': '무지개', 'book': '책', 'moon': '달님', 'star': '별님', 'sun': '햇님'}\n"
     ]
    }
   ],
   "source": [
    "word_dict.update({'star': '별님', 'moon': '달님', 'sun': '햇님'})\n",
    "print(word_dict)"
   ]
  },
  {
   "cell_type": "markdown",
   "metadata": {},
   "source": [
    "#### 요소 삭제\n",
    "- clear()"
   ]
  },
  {
   "cell_type": "code",
   "execution_count": 26,
   "metadata": {},
   "outputs": [
    {
     "name": "stdout",
     "output_type": "stream",
     "text": [
      "{}\n"
     ]
    }
   ],
   "source": [
    "word_dict.clear()\n",
    "print(word_dict)"
   ]
  },
  {
   "cell_type": "markdown",
   "metadata": {},
   "source": [
    "### 5) 시퀀스와 매핑 변환\n",
    "\n",
    "#### 키 시퀀스와 값 시퀀스로 딕셔너리 정의하기\n",
    "- zip()함수"
   ]
  },
  {
   "cell_type": "code",
   "execution_count": 27,
   "metadata": {},
   "outputs": [
    {
     "name": "stdout",
     "output_type": "stream",
     "text": [
      "{'아메리카노': 2000, '카페 라떼': 3000, '딸기 주스': 3000}\n"
     ]
    }
   ],
   "source": [
    "price_list = [2000, 3000, 3000]\n",
    "drink_list = ['아메리카노', '카페 라떼', '딸기 주스']\n",
    "menu_dict = dict(zip(drink_list, price_list))\n",
    "print(menu_dict)"
   ]
  },
  {
   "cell_type": "markdown",
   "metadata": {},
   "source": [
    "#### 딕셔너리에서 키 시퀀스와 값 시퀀스 구하기"
   ]
  },
  {
   "cell_type": "code",
   "execution_count": 28,
   "metadata": {},
   "outputs": [
    {
     "name": "stdout",
     "output_type": "stream",
     "text": [
      "dict_keys(['아메리카노', '카페 라떼', '딸기 주스'])\n"
     ]
    }
   ],
   "source": [
    "# 키 시퀀스\n",
    "print(menu_dict.keys())"
   ]
  },
  {
   "cell_type": "code",
   "execution_count": 29,
   "metadata": {
    "scrolled": true
   },
   "outputs": [
    {
     "name": "stdout",
     "output_type": "stream",
     "text": [
      "dict_values([2000, 3000, 3000])\n"
     ]
    }
   ],
   "source": [
    "# 값 시퀀스\n",
    "print(menu_dict.values())"
   ]
  },
  {
   "cell_type": "code",
   "execution_count": 30,
   "metadata": {},
   "outputs": [
    {
     "name": "stdout",
     "output_type": "stream",
     "text": [
      "dict_items([('아메리카노', 2000), ('카페 라떼', 3000), ('딸기 주스', 3000)])\n"
     ]
    }
   ],
   "source": [
    "# 키-값 시퀀스\n",
    "print(menu_dict.items())"
   ]
  },
  {
   "cell_type": "code",
   "execution_count": 32,
   "metadata": {},
   "outputs": [
    {
     "name": "stdout",
     "output_type": "stream",
     "text": [
      "<class 'dict_items'>\n"
     ]
    }
   ],
   "source": [
    "print(type(menu_dict.items()))"
   ]
  },
  {
   "cell_type": "code",
   "execution_count": 33,
   "metadata": {},
   "outputs": [
    {
     "name": "stdout",
     "output_type": "stream",
     "text": [
      "[('아메리카노', 2000), ('카페 라떼', 3000), ('딸기 주스', 3000)]\n"
     ]
    }
   ],
   "source": [
    "print(list(menu_dict.items()))"
   ]
  },
  {
   "cell_type": "code",
   "execution_count": null,
   "metadata": {},
   "outputs": [],
   "source": []
  }
 ],
 "metadata": {
  "kernelspec": {
   "display_name": "Python 3",
   "language": "python",
   "name": "python3"
  },
  "language_info": {
   "codemirror_mode": {
    "name": "ipython",
    "version": 3
   },
   "file_extension": ".py",
   "mimetype": "text/x-python",
   "name": "python",
   "nbconvert_exporter": "python",
   "pygments_lexer": "ipython3",
   "version": "3.7.6"
  }
 },
 "nbformat": 4,
 "nbformat_minor": 2
}
