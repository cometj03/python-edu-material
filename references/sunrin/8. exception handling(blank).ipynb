{
 "cells": [
  {
   "cell_type": "markdown",
   "metadata": {},
   "source": [
    "# 8장. 예외 처리\n",
    "- 예외(exception)란 프로그램이 정상적으로 실행될 수 없는 상황(오류)을 말한다.\n",
    "- 프로그램의 외부 상황(사용자 입력 또는 실행 환경 등)에 따라 발생할 수 있는 예측 가능한 실행 시간 오류는 예외 처리(exception handling)한다.\n",
    "- 파이썬에서는 다양한 예외(오류) 상황이 클래스로 범주화되어 있다.\n",
    "- 예외(오류)가 발생하면 예외 상황에 대한 정보를 담은 인스턴스가 생성된다.\n",
    "\n",
    "\n",
    "## 1. 예외(오류)의 종류\n",
    "- 파이썬에서 예외 클래스는 계층적으로 범주화되어 있다.\n",
    "- 모든 예외 클래스는 BaseException 클래스의 하위 클래스이다.\n",
    "- 대부분의 예외 클래스는 Exception 클래스의 하위 클래스다.\n",
    "\n",
    "### 1) 구문 오류\n",
    "- SyntaxError: invalid syntax\n",
    "- 구문 오류는 프로그램 번역 과정에서 발생한다.\n",
    "\n",
    "### 2) 실행 시간 오류\n",
    "- 실행 시간 오류는 프로그램 실행 과정에서 발생한다.\n",
    "- 상황에 따라 발생하거나 발생하지 않을 수 있다.\n",
    "\n",
    "### 3) 논리 오류\n",
    "- 구문 오류나 실행 시간 오류가 발생하지 않았지만 프로그램 실행 결과가 올바르지 않은 것을 논리 오류라고 한다.\n",
    "\n",
    "#### 여러 가지 오류\n",
    "- IndentationError\n",
    "- NameError\n",
    "- TypeError\n",
    "- ValueError\n",
    "- AttributeError\n",
    "- ZeroDivisionError\n",
    "- KeyError\n",
    "- IndexError\n",
    "- FileNotFoundError\n",
    "- IOError"
   ]
  },
  {
   "cell_type": "code",
   "execution_count": null,
   "metadata": {},
   "outputs": [],
   "source": []
  },
  {
   "cell_type": "code",
   "execution_count": null,
   "metadata": {},
   "outputs": [],
   "source": []
  },
  {
   "cell_type": "markdown",
   "metadata": {},
   "source": [
    "## 2. try~except문\n",
    "- try~except문은 최소한 하나의 except절을 포함한다.\n",
    "- try~except문은 여러 개의 except절을 포함할 수 있다."
   ]
  },
  {
   "cell_type": "raw",
   "metadata": {},
   "source": [
    "try:\n",
    "    예외(오류)가 발생할 수 있는 코드\n",
    "except 예외 as 별칭:\n",
    "    예외(오류)가 발생했을 때 실행하는 코드"
   ]
  },
  {
   "cell_type": "markdown",
   "metadata": {},
   "source": [
    "- 여기서 예외란 예외를 나타내는 클래스이다.\n",
    "- 오류 메시지를 확인하면 어떤 예외가 발생하는지 알 수 있다."
   ]
  },
  {
   "cell_type": "code",
   "execution_count": 2,
   "metadata": {},
   "outputs": [
    {
     "name": "stdout",
     "output_type": "stream",
     "text": [
      "안\n",
      "정수가 아닙니다\n"
     ]
    }
   ],
   "source": [
    "try:\n",
    "    num = int(input())\n",
    "    print(1/num)\n",
    "except ZeroDivisionError:\n",
    "    print('0으로 나눌 수 없습니다')\n",
    "except ValueError:\n",
    "    print('정수가 아닙니다')"
   ]
  },
  {
   "cell_type": "code",
   "execution_count": 3,
   "metadata": {},
   "outputs": [
    {
     "name": "stdout",
     "output_type": "stream",
     "text": [
      "list index out of range\n"
     ]
    }
   ],
   "source": [
    "try:\n",
    "    a = [1, 2]\n",
    "    print(a[3])\n",
    "    4/0\n",
    "except ZeroDivisionError as e:\n",
    "    print(e)\n",
    "except IndexError as e:\n",
    "    print(e)"
   ]
  },
  {
   "cell_type": "code",
   "execution_count": 4,
   "metadata": {},
   "outputs": [
    {
     "name": "stdout",
     "output_type": "stream",
     "text": [
      "list index out of range\n"
     ]
    }
   ],
   "source": [
    "try:\n",
    "    a = [1, 2]\n",
    "    print(a[3])\n",
    "    4/0\n",
    "except (ZeroDivisionError, IndexError) as e:\n",
    "    print(e)"
   ]
  },
  {
   "cell_type": "code",
   "execution_count": null,
   "metadata": {
    "scrolled": false
   },
   "outputs": [],
   "source": []
  },
  {
   "cell_type": "markdown",
   "metadata": {},
   "source": [
    "## 3. try~ except~ else문"
   ]
  },
  {
   "cell_type": "raw",
   "metadata": {},
   "source": [
    "try:\n",
    "    예외(오류)가 발생할 수 있는 코드\n",
    "except 예외 as 별칭:\n",
    "    예외(오류)가 발생했을 때 실행하는 코드\n",
    "else:\n",
    "    예외가 발생하지 않았을 때 실행하는 코드"
   ]
  },
  {
   "cell_type": "code",
   "execution_count": 6,
   "metadata": {},
   "outputs": [
    {
     "name": "stdout",
     "output_type": "stream",
     "text": [
      "0\n",
      "0으로 나눌 수 없습니다\n",
      "r\n",
      "정수가 아닙니다\n",
      "2\n",
      "0.5\n"
     ]
    }
   ],
   "source": [
    "while True:\n",
    "    try:\n",
    "        num = int(input())\n",
    "        result = 1/num\n",
    "    except ZeroDivisionError:\n",
    "        print('0으로 나눌 수 없습니다')\n",
    "    except ValueError:\n",
    "        print('정수가 아닙니다')\n",
    "    else:\n",
    "        print(result)\n",
    "        break"
   ]
  },
  {
   "cell_type": "markdown",
   "metadata": {},
   "source": [
    "## 4. try~finally문\n",
    "- 예외 발생 여부와 상관없이 반드시 실행되어야 하는 코드를 작성할 때 사용한다."
   ]
  },
  {
   "cell_type": "code",
   "execution_count": 7,
   "metadata": {},
   "outputs": [
    {
     "name": "stdout",
     "output_type": "stream",
     "text": [
      "타입 예외 발생(100은 쓸 수 없음)\n"
     ]
    }
   ],
   "source": [
    "f = open('file.txt', 'w')\n",
    "try:\n",
    "    f.write('Hello World')\n",
    "    f.write(100)\n",
    "except TypeError:\n",
    "    print('타입 예외 발생(100은 쓸 수 없음)')\n",
    "finally:\n",
    "    f.close()"
   ]
  },
  {
   "cell_type": "code",
   "execution_count": null,
   "metadata": {},
   "outputs": [],
   "source": []
  }
 ],
 "metadata": {
  "kernelspec": {
   "display_name": "Python 3",
   "language": "python",
   "name": "python3"
  },
  "language_info": {
   "codemirror_mode": {
    "name": "ipython",
    "version": 3
   },
   "file_extension": ".py",
   "mimetype": "text/x-python",
   "name": "python",
   "nbconvert_exporter": "python",
   "pygments_lexer": "ipython3",
   "version": "3.7.6"
  }
 },
 "nbformat": 4,
 "nbformat_minor": 2
}
