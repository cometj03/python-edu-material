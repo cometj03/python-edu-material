{
 "cells": [
  {
   "cell_type": "markdown",
   "metadata": {},
   "source": [
    "# 7장. 객체와 클래스\n",
    "\n",
    "## 1. 객체지향 프로그래밍(Object Oriented Programming)\n",
    "- 객체지향 프로그래밍은 실생활에서 관찰할 수 있는 객체를 프로그램을 작성하는 기본 단위로 활용한다.\n",
    "- 각 객체는 독립적인 속성과 기능을 가지고 데이터를 처리한다.\n",
    "- 객체지향 프로그래밍은 실세계를 잘 반영하기 때문에 직관적이고 유지보수가 쉽다."
   ]
  },
  {
   "cell_type": "markdown",
   "metadata": {},
   "source": [
    "## 2. 객체(object)\n",
    "- 객체(object)란 우리가 바라보는 대상. 즉 구현해야 할 대상을 말한다.\n",
    "- 파이썬에서 객체(object)란 메모리에서 데이터를 관리하는 단위이다.\n",
    "- 일반적으로 객체는 속성과 기능을 가진다.\n",
    "- 속성은 변수 또는 상수로 표현하고, 기능은 메소드(함수)로 표현한다."
   ]
  },
  {
   "cell_type": "code",
   "execution_count": 2,
   "metadata": {},
   "outputs": [],
   "source": [
    "year = 2020"
   ]
  },
  {
   "cell_type": "markdown",
   "metadata": {},
   "source": [
    "#### 참고\n",
    "- 변수는 객체에 붙인 이름으로 객체 그 자체가 아니다.\n",
    "- 하나의 객체에 여러 개의 이름을 붙일 수 있다."
   ]
  },
  {
   "cell_type": "markdown",
   "metadata": {},
   "source": [
    "### 1) 객체의 값(value)\n",
    "- 객체의 값은 메모리에 기록된 내용을 말한다.\n",
    "- 가변(mutable) 객체는 값을 변경할 수 있지만 불변(immutable) 객체는 값을 변경할 수 없다."
   ]
  },
  {
   "cell_type": "code",
   "execution_count": 3,
   "metadata": {},
   "outputs": [
    {
     "name": "stdout",
     "output_type": "stream",
     "text": [
      "2020\n"
     ]
    }
   ],
   "source": [
    "print(year)"
   ]
  },
  {
   "cell_type": "markdown",
   "metadata": {},
   "source": [
    "### 2) 객체의 유형(type)\n",
    "- 객체의 유형은 데이터의 종류를 말한다.\n",
    "- 객체의 유형에 따라 객체의 값을 읽고 다루는 방법이 다르다.\n",
    "- 객체의 유형은 type() 함수를 통해 알 수 있다."
   ]
  },
  {
   "cell_type": "code",
   "execution_count": 4,
   "metadata": {},
   "outputs": [
    {
     "name": "stdout",
     "output_type": "stream",
     "text": [
      "<class 'int'>\n"
     ]
    }
   ],
   "source": [
    "print(type(year))"
   ]
  },
  {
   "cell_type": "markdown",
   "metadata": {},
   "source": [
    "### 3) 객체의 정체성(identity)\n",
    "- 객체의 정체성은 각각의 객체를 식별하기 위한 고유번호를 말한다.\n",
    "- 객체가 위치한 메모리의 주소 값이다.\n",
    "- 객체의 정체성은 id() 함수를 통해 알 수 있다."
   ]
  },
  {
   "cell_type": "code",
   "execution_count": 5,
   "metadata": {},
   "outputs": [
    {
     "name": "stdout",
     "output_type": "stream",
     "text": [
      "2554936316336\n"
     ]
    }
   ],
   "source": [
    "print(id(year))"
   ]
  },
  {
   "cell_type": "markdown",
   "metadata": {},
   "source": [
    "## 3. 클래스(class)\n",
    "- 객체를 만들기 위해서는 클래스(class)가 필요하다.\n",
    "- 객체와 클래스는 붕어빵과 붕어빵틀에 비유할 수 있다.\n",
    "- 어떤 속성을 가지는 클래스를 한 번 정의하면 이러한 속성을 갖는 객체를 만들 수 있다.\n",
    "- 이때 객체가 갖는 변수나 메소드를 객체의 속성(attribute) 또는 멤버(member)라고 한다.\n",
    "\n",
    "### 1) 클래스 정의하기"
   ]
  },
  {
   "cell_type": "code",
   "execution_count": 6,
   "metadata": {},
   "outputs": [],
   "source": [
    "class Rectangle:\n",
    "    pass"
   ]
  },
  {
   "cell_type": "code",
   "execution_count": 7,
   "metadata": {},
   "outputs": [
    {
     "name": "stdout",
     "output_type": "stream",
     "text": [
      "<class '__main__.Rectangle'>\n"
     ]
    }
   ],
   "source": [
    "print(Rectangle)"
   ]
  },
  {
   "cell_type": "markdown",
   "metadata": {},
   "source": [
    "### 2) 인스턴스 생성하기\n",
    "- 인스턴스(instance)란 클래스로 생성된 객체이다.\n",
    "- 인스턴스를 생성할 때는 함수를 호출하는 것처럼 클래스 이름을 사용한다. 이때 생성자가 호출된다.\n",
    "- isinstance() 함수를 사용하여 어떤 객체가 어떤 클래스에 속하는지 알 수 있다."
   ]
  },
  {
   "cell_type": "code",
   "execution_count": 8,
   "metadata": {},
   "outputs": [
    {
     "name": "stdout",
     "output_type": "stream",
     "text": [
      "<__main__.Rectangle object at 0x00000252DF2AEEC8>\n",
      "<class '__main__.Rectangle'>\n",
      "True\n"
     ]
    }
   ],
   "source": [
    "r = Rectangle() # 생성자\n",
    "\n",
    "print(r)\n",
    "print(type(r))\n",
    "print(isinstance(r, Rectangle))"
   ]
  },
  {
   "cell_type": "markdown",
   "metadata": {},
   "source": [
    "- r은 Rectangle 클래스의 인스턴스이다."
   ]
  },
  {
   "cell_type": "markdown",
   "metadata": {},
   "source": [
    "### 3) 생성자(constructor)\n",
    "- 생성자(constructor)란 객체를 생성할 때 자동으로 호출되는 메소드(method)이다.\n",
    "- 객체를 생성할 때 생성자의 매개변수로 객체의 속성값(초깃값)을 입력받아 저장한다."
   ]
  },
  {
   "cell_type": "code",
   "execution_count": 9,
   "metadata": {},
   "outputs": [],
   "source": [
    "class Rectangle:\n",
    "    def __init__(self, h, v): # 생성자\n",
    "        self.h = h\n",
    "        self.v = v"
   ]
  },
  {
   "cell_type": "markdown",
   "metadata": {},
   "source": [
    "### 4) 변수(variable)\n",
    "- 클래스 변수(class variable)란 클래스에서 정의한 변수로 모든 인스턴스가 공유하는 전체 속성을 나타낸다.\n",
    "- 인스턴스 변수(instance variable)란 인스턴스에서 정의한 변수로 특정 인스턴스가 사용하는 고유한 속성을 나타낸다.\n",
    "- 클래스를 정의한 후 변수를 추가할 수도 있다."
   ]
  },
  {
   "cell_type": "code",
   "execution_count": null,
   "metadata": {},
   "outputs": [],
   "source": [
    "class Rectangle:\n",
    "    def __init__(self, h, v): # 생성자\n",
    "        self.h = h            # 인스턴스 변수\n",
    "        self.v = v            # 인스턴스 변수"
   ]
  },
  {
   "cell_type": "code",
   "execution_count": 10,
   "metadata": {},
   "outputs": [
    {
     "name": "stdout",
     "output_type": "stream",
     "text": [
      "5 5\n"
     ]
    }
   ],
   "source": [
    "r = Rectangle(5, 5)\n",
    "\n",
    "print(r.h, r.v)"
   ]
  },
  {
   "cell_type": "code",
   "execution_count": 11,
   "metadata": {},
   "outputs": [],
   "source": [
    "class Account:\n",
    "    num_accounts = 0              # 클래스 변수\n",
    "    \n",
    "    def __init__(self, name):\n",
    "        self.name = name\n",
    "        Account.num_accounts += 1 # 클래스 변수\n",
    "        \n",
    "    def __del__(self):            # 소멸자\n",
    "        Account.num_accounts -= 1"
   ]
  },
  {
   "cell_type": "code",
   "execution_count": 14,
   "metadata": {},
   "outputs": [
    {
     "name": "stdout",
     "output_type": "stream",
     "text": [
      "정해성\n",
      "2\n"
     ]
    }
   ],
   "source": [
    "a = Account('정해성')\n",
    "\n",
    "print(a.name)\n",
    "print(Account.num_accounts)"
   ]
  },
  {
   "cell_type": "markdown",
   "metadata": {},
   "source": [
    "- 생성자는 클래스의 인스턴스가 생성될 때 자동으로 호출되는 함수이다.\n",
    "- 소멸자는 클래스의 인스턴스가 소멸될 때 자동으로 호출되는 함수이다."
   ]
  },
  {
   "cell_type": "markdown",
   "metadata": {},
   "source": [
    "### 5) 메소드(method)\n",
    "- 메소드(method)는 클래스 내부에 정의된 함수를 말한다.\n",
    "- 메소드의 첫 번째 매개변수는 self이다.\n",
    "- 파이썬 메소드는 첫 번째 인자로 인스턴스를 전달한다.\n",
    "- 즉 클래스 내부에 정의된 self는 클래스의 인스턴스이다."
   ]
  },
  {
   "cell_type": "code",
   "execution_count": 15,
   "metadata": {},
   "outputs": [],
   "source": [
    "class Rectangle(object):\n",
    "    def __init__(self, h, v):\n",
    "        self.h = h\n",
    "        self.v = v\n",
    "    def area(self): # 메소드\n",
    "        return self.h * self.v"
   ]
  },
  {
   "cell_type": "code",
   "execution_count": 16,
   "metadata": {},
   "outputs": [
    {
     "name": "stdout",
     "output_type": "stream",
     "text": [
      "25\n"
     ]
    }
   ],
   "source": [
    "r = Rectangle(5, 5)\n",
    "print(r.area())"
   ]
  },
  {
   "cell_type": "markdown",
   "metadata": {},
   "source": [
    "#### 참고"
   ]
  },
  {
   "cell_type": "code",
   "execution_count": 22,
   "metadata": {},
   "outputs": [],
   "source": [
    "class Cake:\n",
    "    coat = '생크림'\n",
    "    \n",
    "    def __init__(self, topping, price, candles=0):\n",
    "        self.topping = topping\n",
    "        self.price = price\n",
    "        self.candles = candles\n",
    "        \n",
    "    def describe():\n",
    "        print(Cake.coat, '케이크입니다')\n",
    "    \n",
    "#     def describe(self):\n",
    "#         print(Cake.coat, self.topping, '케이크입니다')\n",
    "#         print(self.price, '원입니다')\n",
    "#         print('초는', str(self.candles) + '개입니다')"
   ]
  },
  {
   "cell_type": "code",
   "execution_count": 23,
   "metadata": {},
   "outputs": [
    {
     "name": "stdout",
     "output_type": "stream",
     "text": [
      "생크림 케이크입니다\n"
     ]
    }
   ],
   "source": [
    "c = Cake('딸기', 30000, 20)\n",
    "\n",
    "Cake.describe()\n",
    "# c.describe()"
   ]
  },
  {
   "cell_type": "markdown",
   "metadata": {},
   "source": [
    "### 6) 이름공간(namespace)\n",
    "- dir() 함수를 사용하여 클래스 이름공간에 정의된 모든 이름을 구할 수 있다."
   ]
  },
  {
   "cell_type": "code",
   "execution_count": 24,
   "metadata": {},
   "outputs": [
    {
     "name": "stdout",
     "output_type": "stream",
     "text": [
      "Help on built-in function dir in module builtins:\n",
      "\n",
      "dir(...)\n",
      "    dir([object]) -> list of strings\n",
      "    \n",
      "    If called without an argument, return the names in the current scope.\n",
      "    Else, return an alphabetized list of names comprising (some of) the attributes\n",
      "    of the given object, and of attributes reachable from it.\n",
      "    If the object supplies a method named __dir__, it will be used; otherwise\n",
      "    the default dir() logic is used and returns:\n",
      "      for a module object: the module's attributes.\n",
      "      for a class object:  its attributes, and recursively the attributes\n",
      "        of its bases.\n",
      "      for any other object: its attributes, its class's attributes, and\n",
      "        recursively the attributes of its class's base classes.\n",
      "\n"
     ]
    }
   ],
   "source": [
    "help(dir)"
   ]
  },
  {
   "cell_type": "code",
   "execution_count": 25,
   "metadata": {},
   "outputs": [
    {
     "name": "stdout",
     "output_type": "stream",
     "text": [
      "['__class__',\n",
      " '__delattr__',\n",
      " '__dict__',\n",
      " '__dir__',\n",
      " '__doc__',\n",
      " '__eq__',\n",
      " '__format__',\n",
      " '__ge__',\n",
      " '__getattribute__',\n",
      " '__gt__',\n",
      " '__hash__',\n",
      " '__init__',\n",
      " '__init_subclass__',\n",
      " '__le__',\n",
      " '__lt__',\n",
      " '__module__',\n",
      " '__ne__',\n",
      " '__new__',\n",
      " '__reduce__',\n",
      " '__reduce_ex__',\n",
      " '__repr__',\n",
      " '__setattr__',\n",
      " '__sizeof__',\n",
      " '__str__',\n",
      " '__subclasshook__',\n",
      " '__weakref__',\n",
      " 'area']\n"
     ]
    }
   ],
   "source": [
    "import pprint\n",
    "pprint.pprint(dir(Rectangle))"
   ]
  },
  {
   "cell_type": "code",
   "execution_count": 26,
   "metadata": {},
   "outputs": [
    {
     "name": "stdout",
     "output_type": "stream",
     "text": [
      "['__class__',\n",
      " '__delattr__',\n",
      " '__dict__',\n",
      " '__dir__',\n",
      " '__doc__',\n",
      " '__eq__',\n",
      " '__format__',\n",
      " '__ge__',\n",
      " '__getattribute__',\n",
      " '__gt__',\n",
      " '__hash__',\n",
      " '__init__',\n",
      " '__init_subclass__',\n",
      " '__le__',\n",
      " '__lt__',\n",
      " '__module__',\n",
      " '__ne__',\n",
      " '__new__',\n",
      " '__reduce__',\n",
      " '__reduce_ex__',\n",
      " '__repr__',\n",
      " '__setattr__',\n",
      " '__sizeof__',\n",
      " '__str__',\n",
      " '__subclasshook__',\n",
      " '__weakref__',\n",
      " 'coat',\n",
      " 'describe']\n"
     ]
    }
   ],
   "source": [
    "pprint.pprint(dir(Cake))"
   ]
  },
  {
   "cell_type": "code",
   "execution_count": 27,
   "metadata": {},
   "outputs": [
    {
     "name": "stdout",
     "output_type": "stream",
     "text": [
      "['h',\n",
      " 'v',\n",
      " '__module__',\n",
      " '__init__',\n",
      " 'area',\n",
      " '__dict__',\n",
      " '__weakref__',\n",
      " '__doc__',\n",
      " '__repr__',\n",
      " '__hash__',\n",
      " '__str__',\n",
      " '__getattribute__',\n",
      " '__setattr__',\n",
      " '__delattr__',\n",
      " '__lt__',\n",
      " '__le__',\n",
      " '__eq__',\n",
      " '__ne__',\n",
      " '__gt__',\n",
      " '__ge__',\n",
      " '__new__',\n",
      " '__reduce_ex__',\n",
      " '__reduce__',\n",
      " '__subclasshook__',\n",
      " '__init_subclass__',\n",
      " '__format__',\n",
      " '__sizeof__',\n",
      " '__dir__',\n",
      " '__class__']\n"
     ]
    }
   ],
   "source": [
    "pprint.pprint(r.__dir__())"
   ]
  },
  {
   "cell_type": "code",
   "execution_count": 28,
   "metadata": {},
   "outputs": [
    {
     "name": "stdout",
     "output_type": "stream",
     "text": [
      "['topping',\n",
      " 'price',\n",
      " 'candles',\n",
      " '__module__',\n",
      " 'coat',\n",
      " '__init__',\n",
      " 'describe',\n",
      " '__dict__',\n",
      " '__weakref__',\n",
      " '__doc__',\n",
      " '__repr__',\n",
      " '__hash__',\n",
      " '__str__',\n",
      " '__getattribute__',\n",
      " '__setattr__',\n",
      " '__delattr__',\n",
      " '__lt__',\n",
      " '__le__',\n",
      " '__eq__',\n",
      " '__ne__',\n",
      " '__gt__',\n",
      " '__ge__',\n",
      " '__new__',\n",
      " '__reduce_ex__',\n",
      " '__reduce__',\n",
      " '__subclasshook__',\n",
      " '__init_subclass__',\n",
      " '__format__',\n",
      " '__sizeof__',\n",
      " '__dir__',\n",
      " '__class__']\n"
     ]
    }
   ],
   "source": [
    "pprint.pprint(c.__dir__())"
   ]
  },
  {
   "cell_type": "code",
   "execution_count": 29,
   "metadata": {},
   "outputs": [
    {
     "name": "stdout",
     "output_type": "stream",
     "text": [
      "{'h': 5, 'v': 5}\n"
     ]
    }
   ],
   "source": [
    "pprint.pprint(r.__dict__)"
   ]
  },
  {
   "cell_type": "code",
   "execution_count": 30,
   "metadata": {},
   "outputs": [
    {
     "name": "stdout",
     "output_type": "stream",
     "text": [
      "{'candles': 20, 'price': 30000, 'topping': '딸기'}\n"
     ]
    }
   ],
   "source": [
    "pprint.pprint(c.__dict__)"
   ]
  },
  {
   "cell_type": "code",
   "execution_count": 32,
   "metadata": {},
   "outputs": [
    {
     "data": {
      "text/plain": [
       "20"
      ]
     },
     "execution_count": 32,
     "metadata": {},
     "output_type": "execute_result"
    }
   ],
   "source": [
    "c.__dict__['candles']"
   ]
  },
  {
   "cell_type": "code",
   "execution_count": null,
   "metadata": {},
   "outputs": [],
   "source": []
  }
 ],
 "metadata": {
  "kernelspec": {
   "display_name": "Python 3",
   "language": "python",
   "name": "python3"
  },
  "language_info": {
   "codemirror_mode": {
    "name": "ipython",
    "version": 3
   },
   "file_extension": ".py",
   "mimetype": "text/x-python",
   "name": "python",
   "nbconvert_exporter": "python",
   "pygments_lexer": "ipython3",
   "version": "3.7.6"
  }
 },
 "nbformat": 4,
 "nbformat_minor": 2
}
