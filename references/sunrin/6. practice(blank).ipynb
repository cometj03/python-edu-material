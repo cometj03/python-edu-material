{
 "cells": [
  {
   "cell_type": "markdown",
   "metadata": {},
   "source": [
    "#### 1. 짝수가 입력되면 '짝수', 홀수가 입력되면 '홀수'를 반환하는 함수를 정의하라."
   ]
  },
  {
   "cell_type": "code",
   "execution_count": 3,
   "metadata": {},
   "outputs": [
    {
     "name": "stdout",
     "output_type": "stream",
     "text": [
      "짝수\n"
     ]
    }
   ],
   "source": [
    "def odd_even(n):\n",
    "    if n % 2 == 0:\n",
    "        print(\"짝수\")\n",
    "    else:\n",
    "        print(\"홀수\")\n",
    "\n",
    "odd_even(1234)"
   ]
  },
  {
   "cell_type": "markdown",
   "metadata": {},
   "source": [
    "#### 2. 월을 나타내는 수를 입력하면 그 달의 날짜 수를 반환하는 함수를 정의하라."
   ]
  },
  {
   "cell_type": "code",
   "execution_count": 4,
   "metadata": {},
   "outputs": [
    {
     "name": "stdout",
     "output_type": "stream",
     "text": [
      "31\n"
     ]
    }
   ],
   "source": [
    "def month_date(m):\n",
    "    if m == 4 or m == 6 or m == 9 or m == 11:\n",
    "        return 30\n",
    "    elif m == 2:\n",
    "        return 28\n",
    "    else:\n",
    "        return 31\n",
    "\n",
    "print(month_date(7))"
   ]
  },
  {
   "cell_type": "markdown",
   "metadata": {},
   "source": [
    "#### 3. 사용자로부터 정수를 입력받아 절댓값을 출력하는 함수 print_absolute()를 정의하고 호출하라."
   ]
  },
  {
   "cell_type": "code",
   "execution_count": 5,
   "metadata": {},
   "outputs": [
    {
     "name": "stdout",
     "output_type": "stream",
     "text": [
      "7\n"
     ]
    }
   ],
   "source": [
    "def print_absolute(x):\n",
    "    if x < 0:\n",
    "        print(-x)\n",
    "    else:\n",
    "        print(x)\n",
    "print_absolute(-7)"
   ]
  },
  {
   "cell_type": "markdown",
   "metadata": {},
   "source": [
    "#### 4. 두 수를 입력받아 두 수의 합을 출력하는 함수 print_plus()를 정의하고 호출하라."
   ]
  },
  {
   "cell_type": "code",
   "execution_count": 6,
   "metadata": {},
   "outputs": [
    {
     "name": "stdout",
     "output_type": "stream",
     "text": [
      "12\n"
     ]
    }
   ],
   "source": [
    "def print_plus(a, b):\n",
    "    print(a + b)\n",
    "print_plus(5, 7)"
   ]
  },
  {
   "cell_type": "markdown",
   "metadata": {},
   "source": [
    "#### 5. 4개의 수를 입력받아 평균을 반환하는 함수 average_of_4_numbers()를 정의하고 호출하라."
   ]
  },
  {
   "cell_type": "code",
   "execution_count": 9,
   "metadata": {},
   "outputs": [
    {
     "data": {
      "text/plain": [
       "25.0"
      ]
     },
     "execution_count": 9,
     "metadata": {},
     "output_type": "execute_result"
    }
   ],
   "source": [
    "def average_of_4_numbers(*args):\n",
    "    return sum(args) / len(args)\n",
    "average_of_4_numbers(10, 20, 30, 40)"
   ]
  },
  {
   "cell_type": "markdown",
   "metadata": {},
   "source": [
    "#### 6.  삼각형의 넓이를 구하는 함수를 정의하고, 밑변의 길이가 10이고 높이가 8인 삼각형의 넓이를 계산하여 출력하라."
   ]
  },
  {
   "cell_type": "code",
   "execution_count": 8,
   "metadata": {},
   "outputs": [
    {
     "name": "stdout",
     "output_type": "stream",
     "text": [
      "40.0\n"
     ]
    }
   ],
   "source": [
    "def triangle(a, h):\n",
    "    return a * h / 2\n",
    "print(triangle(10, 8))"
   ]
  },
  {
   "cell_type": "markdown",
   "metadata": {},
   "source": [
    "#### 7. 3개의 숫자를 입력받아 3개 숫자의 합과 3개 숫자의 제곱의 합의 차를 계산하는 함수 diffsum()을 정의하라."
   ]
  },
  {
   "cell_type": "code",
   "execution_count": 10,
   "metadata": {},
   "outputs": [
    {
     "name": "stdout",
     "output_type": "stream",
     "text": [
      "38\n"
     ]
    }
   ],
   "source": [
    "def diffsum(a, b, c):\n",
    "    sum = a + b + c\n",
    "    ssum = a*a + b*b + c*c\n",
    "    if sum > ssum:\n",
    "        return sum - ssum\n",
    "    else:\n",
    "        return ssum - sum\n",
    "print(diffsum(3, 4, 5))"
   ]
  },
  {
   "cell_type": "markdown",
   "metadata": {},
   "source": [
    "#### 8. m이라는 전역 변수를 사용하고, diffsum() 함수를 수정하여 diffsum() 함수에서 계산된 값이 m보다 크면, m을 diffsum() 반환 값으로 바꾸는 함수 diffsum2()를 정의하라."
   ]
  },
  {
   "cell_type": "code",
   "execution_count": 11,
   "metadata": {},
   "outputs": [
    {
     "data": {
      "text/plain": [
       "38"
      ]
     },
     "execution_count": 11,
     "metadata": {},
     "output_type": "execute_result"
    }
   ],
   "source": [
    "m = 1\n",
    "def diffsum2(a, b, c):\n",
    "    if diffsum(a, b, c) > m:\n",
    "        return m\n",
    "    else:\n",
    "        return diffsum(a, b, c)\n",
    "diffsum(3, 4, 5)"
   ]
  },
  {
   "cell_type": "markdown",
   "metadata": {},
   "source": [
    "#### 9. 여러 개의 수를 입력받아 가장 큰 수와 가장 작은 수의 차를 반환하는 함수를 정의하라."
   ]
  },
  {
   "cell_type": "code",
   "execution_count": 12,
   "metadata": {},
   "outputs": [
    {
     "name": "stdout",
     "output_type": "stream",
     "text": [
      "47\n"
     ]
    }
   ],
   "source": [
    "def max_min(*args):\n",
    "    max = min = args[0]\n",
    "    for i in args:\n",
    "        if max < i:\n",
    "            max = i\n",
    "        if min > i:\n",
    "            min = i\n",
    "    return max - min\n",
    "\n",
    "print(max_min(4, 5, 6, 3, 10, 43, -4, 2))"
   ]
  },
  {
   "cell_type": "code",
   "execution_count": null,
   "metadata": {},
   "outputs": [],
   "source": []
  }
 ],
 "metadata": {
  "kernelspec": {
   "display_name": "Python 3",
   "language": "python",
   "name": "python3"
  },
  "language_info": {
   "codemirror_mode": {
    "name": "ipython",
    "version": 3
   },
   "file_extension": ".py",
   "mimetype": "text/x-python",
   "name": "python",
   "nbconvert_exporter": "python",
   "pygments_lexer": "ipython3",
   "version": "3.7.6"
  }
 },
 "nbformat": 4,
 "nbformat_minor": 2
}
