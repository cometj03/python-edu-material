{
 "cells": [
  {
   "cell_type": "markdown",
   "metadata": {},
   "source": [
    "# 9장. 모듈과 패키지\n",
    "\n",
    "## 1. 모듈(module)\n",
    "- 모듈은 전체 프로그램을 구성하는 요소를 독립적인 기능별로 묶은 것이다.\n",
    "- 파이썬에서 모듈은 파이썬 소스 파일 하나를 의미한다. 즉 모듈은 파일 단위이다.\n",
    "- 기본적으로 모듈 이름은 파일 이름을 따른다.\n",
    "- 하나의 소스 파일은 기능적으로 연관된 변수, 클래스, 함수 등을 포함한다.\n",
    "- 모듈을 사용하면 관리가 용이하고 재사용이 편리하다.\n",
    "\n",
    "### 1) import문\n",
    "- 모듈은 import문으로 로딩하여 사용한다.\n",
    "- 모듈을 임포트하면 모듈의 이름과 동일한 변수에 모듈이 대입된다.\n",
    "- 모듈 안에서 전역으로 정의된 변수, 클래스, 함수 등은 객체.속성처럼 모듈.이름으로 지정할 수 있다.\n",
    "- 모듈의 이름은 __name__ 전역 변수에 정의되어 있다. 최상위 모듈의 이름은 항상 '__main__'이다."
   ]
  },
  {
   "cell_type": "code",
   "execution_count": 1,
   "metadata": {
    "scrolled": true
   },
   "outputs": [
    {
     "name": "stdout",
     "output_type": "stream",
     "text": [
      "3.141592653589793\n",
      "3.0\n"
     ]
    }
   ],
   "source": [
    "import math\n",
    "\n",
    "print(math.pi)\n",
    "print(math.sqrt(9)) # 제곱근"
   ]
  },
  {
   "cell_type": "markdown",
   "metadata": {},
   "source": [
    "- import문에 as 이름을 붙여서 변수 이름을 직접 지정할 수 있다."
   ]
  },
  {
   "cell_type": "code",
   "execution_count": 2,
   "metadata": {
    "scrolled": true
   },
   "outputs": [
    {
     "name": "stdout",
     "output_type": "stream",
     "text": [
      "3.141592653589793\n",
      "3.0\n"
     ]
    }
   ],
   "source": [
    "import math as M\n",
    "\n",
    "print(M.pi)\n",
    "print(M.sqrt(9))"
   ]
  },
  {
   "cell_type": "markdown",
   "metadata": {},
   "source": [
    "- 모듈 전체가 아닌 일부 객체만 임포트할 수 있다."
   ]
  },
  {
   "cell_type": "code",
   "execution_count": 3,
   "metadata": {},
   "outputs": [
    {
     "name": "stdout",
     "output_type": "stream",
     "text": [
      "3.141592653589793\n",
      "3.0\n"
     ]
    }
   ],
   "source": [
    "from math import pi\n",
    "from math import sqrt as root\n",
    "\n",
    "print(pi)\n",
    "print(root(9))"
   ]
  },
  {
   "cell_type": "markdown",
   "metadata": {},
   "source": [
    "#### dir() 함수\n",
    "- dir(module)은 모듈에서 정의하는 변수, 클래스, 함수 등을 출력한다."
   ]
  },
  {
   "cell_type": "code",
   "execution_count": 4,
   "metadata": {},
   "outputs": [
    {
     "name": "stdout",
     "output_type": "stream",
     "text": [
      "['__doc__', '__file__', '__loader__', '__name__', '__package__', '__spec__', 'acos', 'acosh', 'asin', 'asinh', 'atan', 'atan2', 'atanh', 'ceil', 'copysign', 'cos', 'cosh', 'degrees', 'e', 'erf', 'erfc', 'exp', 'expm1', 'fabs', 'factorial', 'floor', 'fmod', 'frexp', 'fsum', 'gamma', 'gcd', 'hypot', 'inf', 'isclose', 'isfinite', 'isinf', 'isnan', 'ldexp', 'lgamma', 'log', 'log10', 'log1p', 'log2', 'modf', 'nan', 'pi', 'pow', 'radians', 'remainder', 'sin', 'sinh', 'sqrt', 'tan', 'tanh', 'tau', 'trunc']\n"
     ]
    }
   ],
   "source": [
    "print(dir(math))"
   ]
  },
  {
   "cell_type": "markdown",
   "metadata": {},
   "source": [
    "## 2. 패키지(package)\n",
    "- 패키지는 여러 개의 연관된 모듈이나 패키지를 디렉토리 구조로 묶은 것이다. 즉 소스 파일을 모아 놓은 디렉토리를 말한다.\n",
    "- 패키지를 사용하면 모듈을 구조적으로 관리할 수 있다."
   ]
  },
  {
   "cell_type": "raw",
   "metadata": {},
   "source": [
    "sound/                          Top-level package\n",
    "      __init__.py               Initialize the sound package\n",
    "      formats/                  Subpackage for file format conversions\n",
    "              __init__.py\n",
    "              wavread.py\n",
    "              wavwrite.py\n",
    "              auread.py\n",
    "              auwrite.py\n",
    "              ...\n",
    "      effects/                  Subpackage for sound effects\n",
    "              __init__.py\n",
    "              echo.py\n",
    "              surround.py\n",
    "              reverse.py\n",
    "              ...\n",
    "      filters/                  Subpackage for filters\n",
    "              __init__.py\n",
    "              equalizer.py\n",
    "              vocoder.py\n",
    "              karaoke.py\n",
    "              ..."
   ]
  },
  {
   "cell_type": "markdown",
   "metadata": {},
   "source": [
    "### 1) __init__.py\n",
    "- __init__.py 파일은 패키지를 임포트할 때 초기화하기 위한 파일이다.\n",
    "- 패키지 초기화에 필요한 코드를 작성한다.\n",
    "- 주로 하위패키지.모듈을 임포트하는 명령을 포함한다.\n",
    "- 디렉토리를 패키지로 인식하도록 한다."
   ]
  },
  {
   "cell_type": "markdown",
   "metadata": {},
   "source": [
    "### 2) 패키지와 모듈의 경로\n",
    "- 모듈이 같은 디렉토리 내에 존재하면 import문으로 로딩하여 사용한다.\n",
    "- 파이썬에서 패키지와 모듈의 경로는 점 기호(.)를 이용해 계층적으로 나타낼 수 있다.\n",
    "\n",
    "파이썬 형식 모듈 경로: model.character.human<br>\n",
    "윈도우 형식 파일 경로: model\\character\\human.py<br>\n",
    "유닉스 형식 파일 경로: model/character/human.py\n",
    "\n",
    "#### 절대경로와 상대경로\n",
    "- 절대경로: model.character.human\n",
    "- 상대경로: character.human\n",
    "- 어떤 경로가 상대 경로임을 강조하기 위해 ./character/human과 같이 경로 앞에 점 기호(.)를 붙이기도 한다. 이 때 점 기호는 ‘현재 경로’를 의미한다."
   ]
  },
  {
   "cell_type": "code",
   "execution_count": null,
   "metadata": {},
   "outputs": [],
   "source": [
    "--- model/__init__.py 파일 ---\n",
    "from . import character\n",
    "\n",
    "\n",
    "--- model/character/__init__.py 파일 ---\n",
    "from . import human\n",
    "from . import robot\n",
    "\n",
    "\n",
    "--- graphic/__init__.py 파일 ---\n",
    "from . import background\n",
    "from . import character\n",
    "\n",
    "\n",
    "--- graphic/background.py 파일 ---\n",
    "def draw():\n",
    "    print('화면에 배경을 출력합니다.')\n",
    "\n",
    "\n",
    "--- graphic/character.py 파일 ---\n",
    "def draw():\n",
    "    print('화면에 캐릭터를 출력합니다.')\n",
    "\n",
    "\n",
    "--- model/character/human.py 파일 ---\n",
    "cheoli = {'name': '철이', 'dialog': '또 하나의 별이 사라졌어'}\n",
    "\n",
    "\n",
    "--- model/character/robot.py 파일 ---\n",
    "maetel = {'name': '메텔', 'dialog': '나는 청춘의 환영'}"
   ]
  },
  {
   "cell_type": "markdown",
   "metadata": {},
   "source": [
    "#### 좀 더 알아보기\n",
    "파이썬에서 import문으로 주어진 모듈은 다음 순서로 찾는다.\n",
    "\n",
    "1. 현재 작업 디렉토리(current working directory)\n",
    "2. Python 인스톨 디렉토리와 그 하위의 lib/site-packages 디렉토리 (Python 인터리프터 마다 조금씩 다름)\n",
    "3. 환경변수 PYTHONPATH에 지정된 디렉토리\n",
    "\n",
    "이중 working directory를 제외한 모듈을 찾는 위치는 sys 모듈에서 sys.path를 통해 접근할 수 있다."
   ]
  },
  {
   "cell_type": "code",
   "execution_count": 7,
   "metadata": {},
   "outputs": [
    {
     "name": "stdout",
     "output_type": "stream",
     "text": [
      "['/Users/gimsu-in/PythonProjects/2020/Python/수업자료',\n",
      " '/Users/gimsu-in/opt/anaconda3/lib/python37.zip',\n",
      " '/Users/gimsu-in/opt/anaconda3/lib/python3.7',\n",
      " '/Users/gimsu-in/opt/anaconda3/lib/python3.7/lib-dynload',\n",
      " '',\n",
      " '/Users/gimsu-in/opt/anaconda3/lib/python3.7/site-packages',\n",
      " '/Users/gimsu-in/opt/anaconda3/lib/python3.7/site-packages/aeosa',\n",
      " '/Users/gimsu-in/opt/anaconda3/lib/python3.7/site-packages/IPython/extensions',\n",
      " '/Users/gimsu-in/.ipython']\n"
     ]
    }
   ],
   "source": [
    "import sys\n",
    "import pprint\n",
    "\n",
    "pprint.pprint(sys.path)"
   ]
  },
  {
   "cell_type": "markdown",
   "metadata": {},
   "source": [
    "## 3. 표준 라이브러리\n",
    "- 표준 라이브러리는 파이썬 설치 시 제공되는 내장 함수, 내장 모듈, 외장 모듈 등을 의미한다.\n",
    "    - abs() : 내장 함수\n",
    "    - os.getcwd() : 외장 함수. os 모듈에 정의된 외장 함수\n",
    "    - math 모듈 : 내장 모듈\n",
    "    - os 모듈 : 외장 모듈이나 표준 모듈. C:\\ProgramData\\Anaconda3\\Lib\\os.py로 제공한다.\n",
    "    - NumPy 패키지 : 외장 패키지로 사용자가 직접 설치해야 한다. C:\\ProgramData\\Anaconda3\\Lib\\site-packages\\numpy에 여러 모듈이 디렉토리를 이루고 있다.\n",
    "\n",
    "### 1) 내장 함수\n",
    "- abs\n",
    "- dir\n",
    "- divmod\n",
    "- enumerate\n",
    "- eval\n",
    "- filter\n",
    "- id\n",
    "- input\n",
    "- input\n",
    "- int\n",
    "- isinstance\n",
    "- len\n",
    "- list\n",
    "- map\n",
    "- max\n",
    "- min\n",
    "- open\n",
    "- pow\n",
    "- range\n",
    "- round\n",
    "- sorted\n",
    "- str\n",
    "- sum\n",
    "- tuple\n",
    "- type\n",
    "- zip\n",
    "\n",
    "### 2) 내장 및 외장 모듈\n",
    "- os\n",
    "- sys\n",
    "- math\n",
    "- random\n",
    "- datetime\n",
    "\n",
    "### 3) 써드파드 패키지\n",
    "- 파이썬 표준 라이브러리 외에 제3자(third party)가 개발한 모듈을 써드파드 패키지라고 한다.\n",
    "- PYPI(Python Package Index)에 의해 공유되는 패키지가 있으며 PIP(Pip Installs Packages) 도구를 사용하여 간편하게 설치할 수 있다.\n",
    "    - beautiful soup\n",
    "    - scrapy\n",
    "    - pygame\n",
    "    - numpy\n",
    "    - django\n",
    "    - flask"
   ]
  },
  {
   "cell_type": "code",
   "execution_count": null,
   "metadata": {},
   "outputs": [],
   "source": []
  }
 ],
 "metadata": {
  "kernelspec": {
   "display_name": "Python 3",
   "language": "python",
   "name": "python3"
  },
  "language_info": {
   "codemirror_mode": {
    "name": "ipython",
    "version": 3
   },
   "file_extension": ".py",
   "mimetype": "text/x-python",
   "name": "python",
   "nbconvert_exporter": "python",
   "pygments_lexer": "ipython3",
   "version": "3.7.6"
  }
 },
 "nbformat": 4,
 "nbformat_minor": 2
}
