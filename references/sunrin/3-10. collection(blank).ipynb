{
 "cells": [
  {
   "cell_type": "markdown",
   "metadata": {},
   "source": [
    "## 10. 컬렉션(Collection)\n",
    "- 누구나 쉽게 데이터 구조를 사용할 수 있도록 구현해놓은 도구이다.\n",
    "- 시퀀스(Sequence)는 연속적인 데이터를 다룬다.\n",
    "- 매핑(Mapping)은 키를 이용해 데이터를 관리한다.\n",
    "- 집합(Set)은 중복 없는 데이터를 관리하거나 집합 연산을 수행한다.\n",
    "\n",
    "### 1) 시퀀스(Sequence)\n",
    "- 데이터를 하나씩 나열한 순서가 있는 자료 구조(Data Structure)이다.\n",
    "- 연속된 메모리 공간에 데이터가 저장된다.\n",
    "- 특정 위치의 데이터를 가리킬 수 있다.\n",
    "- 문자열(str), 리스트(list), 튜플(tuple), 레인지(range) 등이 있다.\n",
    "\n",
    "### 2) 매핑(Mapping)\n",
    "- 키(Key)와 값(Value)을 짝지어 저장하는 자료 구조(Data Structure)이다.\n",
    "- 데이터를 저장할 때 의미있는 식별자(이름)가 필요할 때 사용한다.\n",
    "- 키는 데이터를 식별하고 지정하는 역할을 한다.\n",
    "- 사전(dict), 기본 값 사전(defaultdict) 등이 있다.\n",
    "\n",
    "### 3) 집합(Set)\n",
    "- 집합은 순서(sequence)나 키(key)를 갖지 않는다.\n",
    "- 집합은 동일한 데이터를 중복으로 저장할 수 없다.\n",
    "- 집합은 수학의 집합 연산이 가능하다."
   ]
  },
  {
   "cell_type": "markdown",
   "metadata": {},
   "source": [
    "### 4) 중첩 컬렉션\n",
    "\n",
    "#### 중첩 리스트"
   ]
  },
  {
   "cell_type": "code",
   "execution_count": 3,
   "metadata": {},
   "outputs": [],
   "source": [
    "# 좌표평면 위의 도형을 나타내는 꼭지점의 좌표\n",
    "coordinates = [[0, 0], [0, 9], [8, 9], [8, 0]]\n",
    "\n",
    "# 체스판에 놓인 말\n",
    "pieces = [\n",
    "    ['A', 8, 'black', '룩'],\n",
    "    ['D', 7, 'black', '킹'],\n",
    "    ['C', 4, 'white', '비숍'],\n",
    "    ['E', 1, 'white', '킹']\n",
    "]"
   ]
  },
  {
   "cell_type": "markdown",
   "metadata": {},
   "source": [
    "#### 리스트와 딕셔너리 중첩"
   ]
  },
  {
   "cell_type": "code",
   "execution_count": 5,
   "metadata": {},
   "outputs": [],
   "source": [
    "# 좌표평면 위의 도형을 나타내는 꼭지점의 좌표\n",
    "coordinates = [\n",
    "    {'x': 0, 'y': 0},\n",
    "    {'x': 0, 'y': 9},\n",
    "    {'x': 8, 'y': 9},\n",
    "    {'x': 8, 'y': 0},\n",
    "]\n",
    "\n",
    "# 체스판에 놓인 말\n",
    "pieces = [\n",
    "    {'x': 'A', 'y': 8, 'color': 'black', 'role': '룩'},\n",
    "    {'x': 'D', 'y': 7, 'color': 'black', 'role': '킹'},\n",
    "    {'x': 'C', 'y': 4, 'color': 'white', 'role': '비숍'},\n",
    "    {'x': 'E', 'y': 1, 'color': 'white', 'role': '킹'},\n",
    "]"
   ]
  },
  {
   "cell_type": "markdown",
   "metadata": {},
   "source": [
    "#### pprint() 함수"
   ]
  },
  {
   "cell_type": "code",
   "execution_count": 6,
   "metadata": {},
   "outputs": [
    {
     "name": "stdout",
     "output_type": "stream",
     "text": [
      "[{'x': 'A', 'y': 8, 'color': 'black', 'role': '룩'}, {'x': 'D', 'y': 7, 'color': 'black', 'role': '킹'}, {'x': 'C', 'y': 4, 'color': 'white', 'role': '비숍'}, {'x': 'E', 'y': 1, 'color': 'white', 'role': '킹'}]\n"
     ]
    }
   ],
   "source": [
    "print(pieces)"
   ]
  },
  {
   "cell_type": "code",
   "execution_count": 8,
   "metadata": {},
   "outputs": [
    {
     "name": "stdout",
     "output_type": "stream",
     "text": [
      "[{'color': 'black', 'role': '룩', 'x': 'A', 'y': 8},\n",
      " {'color': 'black', 'role': '킹', 'x': 'D', 'y': 7},\n",
      " {'color': 'white', 'role': '비숍', 'x': 'C', 'y': 4},\n",
      " {'color': 'white', 'role': '킹', 'x': 'E', 'y': 1}]\n"
     ]
    }
   ],
   "source": [
    "import pprint\n",
    "pprint.pprint(pieces)"
   ]
  },
  {
   "cell_type": "markdown",
   "metadata": {},
   "source": [
    "### 5) 패킹과 언패킹\n",
    "\n",
    "#### 패킹(packing)\n",
    "- 여러 개의 값을 컬렉션으로 묶어 변수에 대입하는 것을 말한다."
   ]
  },
  {
   "cell_type": "code",
   "execution_count": 9,
   "metadata": {},
   "outputs": [
    {
     "name": "stdout",
     "output_type": "stream",
     "text": [
      "(1, 2, 3, 4, 5)\n"
     ]
    }
   ],
   "source": [
    "numbers = 1, 2, 3, 4, 5\n",
    "print(numbers)"
   ]
  },
  {
   "cell_type": "markdown",
   "metadata": {},
   "source": [
    "#### 언패킹(unpacking)\n",
    "- 컬렉션의 요소를 여러 개의 변수에 나누어 대입하는 것을 말한다."
   ]
  },
  {
   "cell_type": "code",
   "execution_count": 10,
   "metadata": {},
   "outputs": [
    {
     "name": "stdout",
     "output_type": "stream",
     "text": [
      "1 2 3 4 5\n"
     ]
    }
   ],
   "source": [
    "a = numbers[0]\n",
    "b = numbers[1]\n",
    "c = numbers[2]\n",
    "d = numbers[3]\n",
    "e = numbers[4]\n",
    "print(a, b, c, d, e)"
   ]
  },
  {
   "cell_type": "code",
   "execution_count": 12,
   "metadata": {},
   "outputs": [
    {
     "name": "stdout",
     "output_type": "stream",
     "text": [
      "1 2 3 4 5\n"
     ]
    }
   ],
   "source": [
    "a, b, c, d, e = numbers\n",
    "print(a, b, c, d, e)"
   ]
  },
  {
   "cell_type": "markdown",
   "metadata": {},
   "source": [
    "- 좌변의 변수 하나에 *를 붙여 나머지 요소를 대입할 수 있다."
   ]
  },
  {
   "cell_type": "code",
   "execution_count": 13,
   "metadata": {},
   "outputs": [
    {
     "name": "stdout",
     "output_type": "stream",
     "text": [
      "1 2 (3, 4, 5)\n"
     ]
    }
   ],
   "source": [
    "a = numbers[0]\n",
    "b = numbers[1]\n",
    "rest = numbers[2:]\n",
    "print(a, b, rest)"
   ]
  },
  {
   "cell_type": "code",
   "execution_count": 14,
   "metadata": {},
   "outputs": [
    {
     "name": "stdout",
     "output_type": "stream",
     "text": [
      "1 2 [3, 4, 5]\n"
     ]
    }
   ],
   "source": [
    "a, b, *rest = numbers\n",
    "print(a, b, rest)"
   ]
  },
  {
   "cell_type": "code",
   "execution_count": 16,
   "metadata": {},
   "outputs": [
    {
     "name": "stdout",
     "output_type": "stream",
     "text": [
      "[1, 2]\n"
     ]
    }
   ],
   "source": [
    "*rest, c, d, e = numbers\n",
    "print(rest)"
   ]
  },
  {
   "cell_type": "code",
   "execution_count": 17,
   "metadata": {},
   "outputs": [
    {
     "name": "stdout",
     "output_type": "stream",
     "text": [
      "[2, 3, 4]\n"
     ]
    }
   ],
   "source": [
    "a, *rest, e = numbers\n",
    "print(rest)"
   ]
  },
  {
   "cell_type": "markdown",
   "metadata": {},
   "source": [
    "## 11. 형변환\n",
    "\n",
    "### 1) 정수형"
   ]
  },
  {
   "cell_type": "code",
   "execution_count": 19,
   "metadata": {},
   "outputs": [
    {
     "name": "stdout",
     "output_type": "stream",
     "text": [
      "12\n",
      "321\n",
      "1\n"
     ]
    }
   ],
   "source": [
    "print(int(12.7))\n",
    "print(int('321'))\n",
    "print(int(True))"
   ]
  },
  {
   "cell_type": "markdown",
   "metadata": {},
   "source": [
    "### 2) 실수형"
   ]
  },
  {
   "cell_type": "code",
   "execution_count": 20,
   "metadata": {},
   "outputs": [
    {
     "name": "stdout",
     "output_type": "stream",
     "text": [
      "456.0\n",
      "1230000.0\n"
     ]
    }
   ],
   "source": [
    "print(float(456))\n",
    "print(float('123e4'))"
   ]
  },
  {
   "cell_type": "markdown",
   "metadata": {},
   "source": [
    "### 3) 복소수형"
   ]
  },
  {
   "cell_type": "code",
   "execution_count": 22,
   "metadata": {},
   "outputs": [
    {
     "name": "stdout",
     "output_type": "stream",
     "text": [
      "(1.23+0j)\n",
      "(1.23+45.6j)\n"
     ]
    }
   ],
   "source": [
    "print(complex(1.23))\n",
    "print(complex('1.23+45.6j'))"
   ]
  },
  {
   "cell_type": "markdown",
   "metadata": {},
   "source": [
    "### 4) 리스트"
   ]
  },
  {
   "cell_type": "code",
   "execution_count": 23,
   "metadata": {},
   "outputs": [
    {
     "name": "stdout",
     "output_type": "stream",
     "text": [
      "['H', 'a', 'p', 'p', 'y']\n"
     ]
    }
   ],
   "source": [
    "print(list('Happy'))"
   ]
  },
  {
   "cell_type": "markdown",
   "metadata": {},
   "source": [
    "### 5) 튜플"
   ]
  },
  {
   "cell_type": "code",
   "execution_count": 24,
   "metadata": {},
   "outputs": [
    {
     "name": "stdout",
     "output_type": "stream",
     "text": [
      "('H', 'a', 'p', 'p', 'y')\n"
     ]
    }
   ],
   "source": [
    "print(tuple('Happy'))"
   ]
  },
  {
   "cell_type": "markdown",
   "metadata": {},
   "source": [
    "### 6) 집합"
   ]
  },
  {
   "cell_type": "code",
   "execution_count": 25,
   "metadata": {},
   "outputs": [
    {
     "name": "stdout",
     "output_type": "stream",
     "text": [
      "{'y', 'a', 'H', 'p'}\n"
     ]
    }
   ],
   "source": [
    "print(set('Happy'))"
   ]
  },
  {
   "cell_type": "markdown",
   "metadata": {},
   "source": [
    "## 12. mutable과 immutable\n",
    "\n",
    "#### mutable 객체\n",
    "- 객체를 생성한 후 객체의 값을 수정할 수 있다.\n",
    "- 변수는 값이 수정된 같은 객체를 가리킨다.(shallow copy)\n",
    "- list, dict, set 등이 있다.\n",
    "\n",
    "#### immutable 객체\n",
    "- 객체를 생성한 후 객체의 값을 수정할 수 없다.\n",
    "- 변수는 해당 값을 가진 다른 객체를 가리킨다.(deep copy)\n",
    "- bool, int, float, complex, str, tuple, frozenset 등이 있다."
   ]
  },
  {
   "cell_type": "code",
   "execution_count": null,
   "metadata": {},
   "outputs": [],
   "source": []
  }
 ],
 "metadata": {
  "kernelspec": {
   "display_name": "Python 3",
   "language": "python",
   "name": "python3"
  },
  "language_info": {
   "codemirror_mode": {
    "name": "ipython",
    "version": 3
   },
   "file_extension": ".py",
   "mimetype": "text/x-python",
   "name": "python",
   "nbconvert_exporter": "python",
   "pygments_lexer": "ipython3",
   "version": "3.7.6"
  }
 },
 "nbformat": 4,
 "nbformat_minor": 2
}
