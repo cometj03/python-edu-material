{
 "cells": [
  {
   "cell_type": "markdown",
   "metadata": {},
   "source": [
    "# 4장. 조건문\n",
    "\n",
    "## 1. if문"
   ]
  },
  {
   "cell_type": "raw",
   "metadata": {},
   "source": [
    "if 조건식:\n",
    "    조건식이 참일 때 실행하는 문장"
   ]
  },
  {
   "cell_type": "markdown",
   "metadata": {},
   "source": [
    "- 조건식은 참과 거짓을 판단하는 문장이다.\n",
    "- 조건식이 참일 때 실행하는 문장은 들여쓰기 한다."
   ]
  },
  {
   "cell_type": "code",
   "execution_count": 1,
   "metadata": {},
   "outputs": [
    {
     "name": "stdout",
     "output_type": "stream",
     "text": [
      "1\n",
      "1을 입력하셨습니다.\n"
     ]
    }
   ],
   "source": [
    "a = int(input())\n",
    "if a == 1:\n",
    "    print('1을 입력하셨습니다.')"
   ]
  },
  {
   "cell_type": "markdown",
   "metadata": {},
   "source": [
    "## 2. if-else문"
   ]
  },
  {
   "cell_type": "raw",
   "metadata": {},
   "source": [
    "if 조건식:\n",
    "    조건식이 참일 때 실행하는 문장\n",
    "else:\n",
    "    조건식이 거짓일 때 실행하는 문장"
   ]
  },
  {
   "cell_type": "markdown",
   "metadata": {},
   "source": [
    "#### 홀짝 구하기"
   ]
  },
  {
   "cell_type": "code",
   "execution_count": 2,
   "metadata": {},
   "outputs": [
    {
     "name": "stdout",
     "output_type": "stream",
     "text": [
      "정수를 입력하세요.123\n",
      "홀수\n"
     ]
    }
   ],
   "source": [
    "x = int(input('정수를 입력하세요.'))\n",
    "if x % 2 == 0:\n",
    "    print('짝수')\n",
    "else:\n",
    "    print('홀수')"
   ]
  },
  {
   "cell_type": "markdown",
   "metadata": {},
   "source": [
    "#### 절댓값 구하기"
   ]
  },
  {
   "cell_type": "code",
   "execution_count": 3,
   "metadata": {},
   "outputs": [
    {
     "name": "stdout",
     "output_type": "stream",
     "text": [
      "정수를 입력하세요-3\n",
      "3\n"
     ]
    }
   ],
   "source": [
    "n = int(input('정수를 입력하세요'))\n",
    "if n >= 0:\n",
    "    print(n)\n",
    "else:\n",
    "    print(-n)"
   ]
  },
  {
   "cell_type": "markdown",
   "metadata": {},
   "source": [
    "#### 2와 3의 공배수 구하기"
   ]
  },
  {
   "cell_type": "code",
   "execution_count": 4,
   "metadata": {},
   "outputs": [
    {
     "name": "stdout",
     "output_type": "stream",
     "text": [
      "정수를 입력하세요.6\n",
      "2와 3의 공배수입니다.\n"
     ]
    }
   ],
   "source": [
    "num = int(input('정수를 입력하세요.'))\n",
    "if num % 2 == 0 and num % 3 == 0:\n",
    "    print('2와 3의 공배수입니다.')\n",
    "else:\n",
    "    print('2와 3의 공배수가 아닙니다.')"
   ]
  },
  {
   "cell_type": "markdown",
   "metadata": {},
   "source": [
    "## 3. if-elif-else문"
   ]
  },
  {
   "cell_type": "raw",
   "metadata": {},
   "source": [
    "if 조건식1:\n",
    "    조건식1이 참일 때 실행하는 문장\n",
    "elif 조건식2:\n",
    "    조건식1이 거짓이고 조건식2가 참일 때 실행하는 문장\n",
    "else:\n",
    "    조건식이 모두 거짓일 때 실행하는 문장"
   ]
  },
  {
   "cell_type": "markdown",
   "metadata": {},
   "source": [
    "#### 학점 계산 프로그램"
   ]
  },
  {
   "cell_type": "code",
   "execution_count": 6,
   "metadata": {},
   "outputs": [
    {
     "name": "stdout",
     "output_type": "stream",
     "text": [
      "점수를 입력하세요: 100\n",
      "A\n"
     ]
    }
   ],
   "source": [
    "pt = int(input('점수를 입력하세요: '))\n",
    "\n",
    "if pt >= 90:\n",
    "    print('A')\n",
    "elif pt >= 80:\n",
    "    print('B')\n",
    "elif pt >= 70:\n",
    "    print('C')\n",
    "elif pt >= 60:\n",
    "    print('D')\n",
    "else:\n",
    "    print('E')"
   ]
  },
  {
   "cell_type": "markdown",
   "metadata": {},
   "source": [
    "## 4. 중첩 조건문"
   ]
  },
  {
   "cell_type": "code",
   "execution_count": 8,
   "metadata": {},
   "outputs": [
    {
     "name": "stdout",
     "output_type": "stream",
     "text": [
      "11\n",
      "10 초과 홀수\n"
     ]
    }
   ],
   "source": [
    "x = int(input())\n",
    "if x > 10:\n",
    "    if x % 2 == 0:\n",
    "        print('10 초과 짝수')\n",
    "    else:\n",
    "        print('10 초과 홀수')\n",
    "else:\n",
    "    print('10 이하')"
   ]
  },
  {
   "cell_type": "markdown",
   "metadata": {},
   "source": [
    "## 5. pass문"
   ]
  },
  {
   "cell_type": "raw",
   "metadata": {},
   "source": [
    "if 조건식:\n",
    "    pass"
   ]
  },
  {
   "cell_type": "markdown",
   "metadata": {},
   "source": [
    "- 코드 블록은 아무것도 적지 않으면 오류가 발생한다.\n",
    "- pass문은 코드 블록을 비워 둘 때 사용한다.\n",
    "- pass문을 사용할 때는 실행할 문장이 없는 것인지 코드 작성을 미룬 것인지 주석을 통해 설명한다."
   ]
  },
  {
   "cell_type": "markdown",
   "metadata": {},
   "source": [
    "## 6. 조건부 식"
   ]
  },
  {
   "cell_type": "raw",
   "metadata": {},
   "source": [
    "조건식이 참일 때 값 if 조건식 조건식이 거짓일 때 값"
   ]
  },
  {
   "cell_type": "code",
   "execution_count": 10,
   "metadata": {},
   "outputs": [
    {
     "name": "stdout",
     "output_type": "stream",
     "text": [
      "failure\n"
     ]
    }
   ],
   "source": [
    "score = 55\n",
    "if score >= 60:\n",
    "    message = 'success'\n",
    "else:\n",
    "    message = 'failure'\n",
    "print(message)"
   ]
  },
  {
   "cell_type": "code",
   "execution_count": 12,
   "metadata": {},
   "outputs": [
    {
     "name": "stdout",
     "output_type": "stream",
     "text": [
      "failure\n"
     ]
    }
   ],
   "source": [
    "message = 'success' if score >= 60 else 'failure'\n",
    "print(message)"
   ]
  },
  {
   "cell_type": "code",
   "execution_count": null,
   "metadata": {},
   "outputs": [],
   "source": []
  }
 ],
 "metadata": {
  "kernelspec": {
   "display_name": "Python 3",
   "language": "python",
   "name": "python3"
  },
  "language_info": {
   "codemirror_mode": {
    "name": "ipython",
    "version": 3
   },
   "file_extension": ".py",
   "mimetype": "text/x-python",
   "name": "python",
   "nbconvert_exporter": "python",
   "pygments_lexer": "ipython3",
   "version": "3.7.6"
  }
 },
 "nbformat": 4,
 "nbformat_minor": 2
}
