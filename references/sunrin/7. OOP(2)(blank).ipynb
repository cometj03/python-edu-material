{
 "cells": [
  {
   "cell_type": "markdown",
   "metadata": {},
   "source": [
    "# 7장. 객체와 클래스\n",
    "\n",
    "## 4. 클래스 상속(inheritance)\n",
    "- 클래스 상속을 사용하면 변수나 메소드 등 이미 구현된 속성을 사용할 수 있다.\n",
    "- 이때 상속을 받는 클래스를 하위 클래스, 상속을 하는 클래스를 상위 클래스라고 한다.\n",
    "- 하위 클래스를 정의할 때 괄호를 사용하여 '하위 클래스(상위 클래스)'로 나타낸다.\n",
    "- issubclass() 함수를 사용하여 어떤 클래스가 다른 클래스의 하위 클래스인지 알 수 있다."
   ]
  },
  {
   "cell_type": "code",
   "execution_count": 1,
   "metadata": {},
   "outputs": [],
   "source": [
    "class Parent:\n",
    "    def can_sing(self):\n",
    "        print(\"Sing a song\")"
   ]
  },
  {
   "cell_type": "code",
   "execution_count": 2,
   "metadata": {},
   "outputs": [
    {
     "name": "stdout",
     "output_type": "stream",
     "text": [
      "Sing a song\n"
     ]
    }
   ],
   "source": [
    "father = Parent()\n",
    "\n",
    "father.can_sing()"
   ]
  },
  {
   "cell_type": "code",
   "execution_count": 4,
   "metadata": {},
   "outputs": [],
   "source": [
    "class LuckyChild(Parent):\n",
    "    pass"
   ]
  },
  {
   "cell_type": "code",
   "execution_count": 5,
   "metadata": {},
   "outputs": [
    {
     "name": "stdout",
     "output_type": "stream",
     "text": [
      "Sing a song\n"
     ]
    }
   ],
   "source": [
    "child = LuckyChild()\n",
    "\n",
    "child.can_sing()"
   ]
  },
  {
   "cell_type": "code",
   "execution_count": 6,
   "metadata": {},
   "outputs": [],
   "source": [
    "class LuckyChild(Parent):\n",
    "    def can_dance(self):\n",
    "        print(\"Shuffle Dance\")"
   ]
  },
  {
   "cell_type": "code",
   "execution_count": 8,
   "metadata": {},
   "outputs": [
    {
     "name": "stdout",
     "output_type": "stream",
     "text": [
      "Sing a song\n",
      "Shuffle Dance\n"
     ]
    }
   ],
   "source": [
    "child = LuckyChild()\n",
    "\n",
    "child.can_sing()\n",
    "child.can_dance()"
   ]
  },
  {
   "cell_type": "code",
   "execution_count": 9,
   "metadata": {},
   "outputs": [
    {
     "name": "stdout",
     "output_type": "stream",
     "text": [
      "True\n",
      "True\n"
     ]
    }
   ],
   "source": [
    "print(isinstance(LuckyChild, object))\n",
    "print(isinstance(Parent, object))"
   ]
  },
  {
   "cell_type": "markdown",
   "metadata": {},
   "source": [
    "#### 참고\n",
    "- 파이썬의 모든 클래스는 object 클래스의 하위 클래스이다.\n",
    "- 따라서 클래스를 정의할 때 다른 클래스를 상속받지 않으면 object 클래스를 상속받는다."
   ]
  },
  {
   "cell_type": "code",
   "execution_count": null,
   "metadata": {},
   "outputs": [],
   "source": []
  },
  {
   "cell_type": "markdown",
   "metadata": {},
   "source": [
    "## 5. 메소드 오버라이딩(overriding)\n",
    "- 메소드 오버라이딩(overriding)이란 상위 클래스에서 정의한 메소드를 하위 클래스에서 재정의하는 것을 말한다."
   ]
  },
  {
   "cell_type": "code",
   "execution_count": 12,
   "metadata": {},
   "outputs": [
    {
     "name": "stdout",
     "output_type": "stream",
     "text": [
      "lalala\n"
     ]
    }
   ],
   "source": [
    "class LuckyChild(Parent):\n",
    "    def can_sing(self):\n",
    "        print(\"lalala\")\n",
    "        \n",
    "    def can_dance(self):\n",
    "        print(\"Shuffle Dance\")\n",
    "\n",
    "child = LuckyChild()\n",
    "child.can_sing()"
   ]
  },
  {
   "cell_type": "markdown",
   "metadata": {},
   "source": [
    "#### super()"
   ]
  },
  {
   "cell_type": "code",
   "execution_count": 13,
   "metadata": {},
   "outputs": [
    {
     "name": "stdout",
     "output_type": "stream",
     "text": [
      "Sing a song\n",
      "lalala\n"
     ]
    }
   ],
   "source": [
    "class LuckyChild(Parent):\n",
    "    def can_sing(self):\n",
    "        super().can_sing()\n",
    "        print(\"lalala\")\n",
    "        \n",
    "    def can_dance(self):\n",
    "        print(\"Shuffle Dance\")\n",
    "\n",
    "child = LuckyChild()\n",
    "child.can_sing()"
   ]
  },
  {
   "cell_type": "markdown",
   "metadata": {},
   "source": [
    "## 6. 특수 메소드\n",
    "- 파이썬에서 특수 메소드란 두 개의 밑줄(underscore) 문자가 붙은 메소드를 말한다.\n",
    "- 파이썬 특수 메소드는 특수한 용도로 사용하며 object 클래스에 구현되어 있다."
   ]
  },
  {
   "cell_type": "markdown",
   "metadata": {},
   "source": [
    "#### __str__()"
   ]
  },
  {
   "cell_type": "code",
   "execution_count": 14,
   "metadata": {},
   "outputs": [
    {
     "name": "stdout",
     "output_type": "stream",
     "text": [
      "<__main__.LuckyChild object at 0x00000294BCFB9E88>\n"
     ]
    }
   ],
   "source": [
    "print(child.__str__())"
   ]
  },
  {
   "cell_type": "code",
   "execution_count": 16,
   "metadata": {},
   "outputs": [
    {
     "name": "stdout",
     "output_type": "stream",
     "text": [
      "LuckyChild의 객체입니다.\n"
     ]
    }
   ],
   "source": [
    "class LuckyChild(Parent):\n",
    "    def __str__(self):\n",
    "        return 'LuckyChild의 객체입니다.'\n",
    "    \n",
    "    def can_sing(self):\n",
    "        super().can_sing()\n",
    "        print(\"lalala\")\n",
    "        \n",
    "    def can_dance(self):\n",
    "        print(\"Shuffle Dance\")\n",
    "\n",
    "child = LuckyChild()\n",
    "print(child.__str__())"
   ]
  },
  {
   "cell_type": "code",
   "execution_count": 18,
   "metadata": {},
   "outputs": [
    {
     "name": "stdout",
     "output_type": "stream",
     "text": [
      "LuckyChild의 객체입니다.\n"
     ]
    }
   ],
   "source": [
    "print(child)"
   ]
  },
  {
   "cell_type": "code",
   "execution_count": null,
   "metadata": {},
   "outputs": [],
   "source": []
  }
 ],
 "metadata": {
  "kernelspec": {
   "display_name": "Python 3",
   "language": "python",
   "name": "python3"
  },
  "language_info": {
   "codemirror_mode": {
    "name": "ipython",
    "version": 3
   },
   "file_extension": ".py",
   "mimetype": "text/x-python",
   "name": "python",
   "nbconvert_exporter": "python",
   "pygments_lexer": "ipython3",
   "version": "3.7.6"
  }
 },
 "nbformat": 4,
 "nbformat_minor": 2
}
