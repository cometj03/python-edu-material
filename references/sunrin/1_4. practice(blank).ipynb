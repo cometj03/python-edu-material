{
 "cells": [
  {
   "cell_type": "markdown",
   "metadata": {},
   "source": [
    "# 1~4. 연습문제"
   ]
  },
  {
   "cell_type": "markdown",
   "metadata": {},
   "source": [
    "## 2장. 파이썬 기본문법"
   ]
  },
  {
   "cell_type": "markdown",
   "metadata": {},
   "source": [
    "#### 1. a, b에 각각 5, 7을 대입하고 곱셈을 한 값을 변수 result에 저장하여 출력하는 프로그램을 작성하시오."
   ]
  },
  {
   "cell_type": "code",
   "execution_count": 1,
   "metadata": {},
   "outputs": [
    {
     "name": "stdout",
     "output_type": "stream",
     "text": [
      "35\n"
     ]
    }
   ],
   "source": [
    "a = 5\n",
    "b = 7\n",
    "result = a * b\n",
    "print(result)"
   ]
  },
  {
   "cell_type": "markdown",
   "metadata": {},
   "source": [
    "#### 2. 다음 식의 몫과 나머지를 각각 변수 portion, rest에 저장하여 출력하는 프로그램을 작성하시오."
   ]
  },
  {
   "cell_type": "raw",
   "metadata": {},
   "source": [
    "123456 ÷ 789"
   ]
  },
  {
   "cell_type": "code",
   "execution_count": 3,
   "metadata": {},
   "outputs": [
    {
     "name": "stdout",
     "output_type": "stream",
     "text": [
      "156\n",
      "372\n"
     ]
    }
   ],
   "source": [
    "portion = 123456 // 789\n",
    "rest = 123456 % 789\n",
    "print(portion)\n",
    "print(rest)"
   ]
  },
  {
   "cell_type": "markdown",
   "metadata": {},
   "source": [
    "#### 3. x, y에 각각 11, 22를 대입하고 두 수를 교환하는 프로그램을 작성하시오."
   ]
  },
  {
   "cell_type": "code",
   "execution_count": 4,
   "metadata": {},
   "outputs": [
    {
     "name": "stdout",
     "output_type": "stream",
     "text": [
      "22\n",
      "11\n"
     ]
    }
   ],
   "source": [
    "x = 11\n",
    "y = 22\n",
    "x, y = y, x\n",
    "print(x)\n",
    "print(y)"
   ]
  },
  {
   "cell_type": "markdown",
   "metadata": {},
   "source": [
    "#### 4. 반지름(r)이 7인 원의 넓이(area)를 제곱을 이용하여 구하는 프로그램을 작성하시오. (단, π = 3.14)"
   ]
  },
  {
   "cell_type": "code",
   "execution_count": 5,
   "metadata": {},
   "outputs": [
    {
     "name": "stdout",
     "output_type": "stream",
     "text": [
      "153.86\n"
     ]
    }
   ],
   "source": [
    "r = 7\n",
    "area = 7**2 * 3.14\n",
    "print(area)"
   ]
  },
  {
   "cell_type": "markdown",
   "metadata": {},
   "source": [
    "#### 5. number1, number2, number3, number4에 각각 5, 4, 9, 2를 대입하고 다음 식을 계산하는 프로그램을 작성하시오."
   ]
  },
  {
   "cell_type": "raw",
   "metadata": {},
   "source": [
    "(number1*number2)(number2-number3)(number3//number4)"
   ]
  },
  {
   "cell_type": "code",
   "execution_count": 7,
   "metadata": {},
   "outputs": [
    {
     "name": "stdout",
     "output_type": "stream",
     "text": [
      "-400\n"
     ]
    }
   ],
   "source": [
    "number1 = 5\n",
    "number2 = 4\n",
    "number3 = 9\n",
    "number4 = 2\n",
    "print((number1*number2) * (number2-number3) * (number3//number4))"
   ]
  },
  {
   "cell_type": "markdown",
   "metadata": {},
   "source": [
    "#### 6. 거리(D)와 시간(T)를 입력하여 속도(S)를 구하는 프로그램을 작성하시오."
   ]
  },
  {
   "cell_type": "code",
   "execution_count": 5,
   "metadata": {},
   "outputs": [
    {
     "name": "stdout",
     "output_type": "stream",
     "text": [
      "거리 입력: 10\n",
      "시간 입력: 2\n",
      "5.0\n"
     ]
    }
   ],
   "source": [
    "D = int(input('거리 입력: '))\n",
    "T = int(input('시간 입력: '))\n",
    "S = D / T\n",
    "print(S)"
   ]
  },
  {
   "cell_type": "markdown",
   "metadata": {},
   "source": [
    "#### 7. 시, 분, 초를 입력받고 입력받은 시간을 초 단위로 출력하는 프로그램을 작성하시오."
   ]
  },
  {
   "cell_type": "code",
   "execution_count": 4,
   "metadata": {},
   "outputs": [
    {
     "name": "stdout",
     "output_type": "stream",
     "text": [
      "시: 1\n",
      "분: 12\n",
      "초: 34\n",
      "4354초\n"
     ]
    }
   ],
   "source": [
    "h = int(input('시: '))\n",
    "m = int(input('분: '))\n",
    "s = int(input('초: '))\n",
    "\n",
    "print(str(h * 3600 + m * 60 + s) + \"초\")"
   ]
  },
  {
   "cell_type": "markdown",
   "metadata": {},
   "source": [
    "#### 8. 두 수를 입력받아 사칙연산을 계산하는 프로그램을 작성하시오."
   ]
  },
  {
   "cell_type": "code",
   "execution_count": 2,
   "metadata": {},
   "outputs": [
    {
     "name": "stdout",
     "output_type": "stream",
     "text": [
      "5\n",
      "9\n",
      "14 -4 45 0.5555555555555556\n"
     ]
    }
   ],
   "source": [
    "a = int(input())\n",
    "b = int(input())\n",
    "print(a + b, a - b, a * b, a / b)"
   ]
  },
  {
   "cell_type": "markdown",
   "metadata": {},
   "source": [
    "#### 9. 성과 이름을 입력받고 입력받은 성과 이름을 함께 출력하는 프로그램을 작성하시오."
   ]
  },
  {
   "cell_type": "code",
   "execution_count": 1,
   "metadata": {},
   "outputs": [
    {
     "name": "stdout",
     "output_type": "stream",
     "text": [
      "성 입력: 정\n",
      "이름 입력: 해성\n",
      "정해성\n"
     ]
    }
   ],
   "source": [
    "last = input('성 입력: ')\n",
    "first = input('이름 입력: ')\n",
    "print(last + first)"
   ]
  },
  {
   "cell_type": "markdown",
   "metadata": {},
   "source": [
    "## 3장. 자료형"
   ]
  },
  {
   "cell_type": "markdown",
   "metadata": {},
   "source": [
    "#### 1. 리스트를 부분 출력하는 프로그램을 작성하시오."
   ]
  },
  {
   "cell_type": "code",
   "execution_count": 8,
   "metadata": {},
   "outputs": [
    {
     "name": "stdout",
     "output_type": "stream",
     "text": [
      "[10, 20, 30, 40]\n",
      "[60, 70, 80, 90]\n",
      "[30, 40, 50]\n",
      "90\n"
     ]
    }
   ],
   "source": [
    "lst = [10, 20, 30, 40, 50, 60, 70, 80, 90]\n",
    "\n",
    "# 앞에서부터 4개 리스트를 출력한다.\n",
    "print(lst[:4])\n",
    "# 뒤에서부터 4개 리스트를 출력한다.\n",
    "print(lst[-4:])\n",
    "# [30, 40, 50]을 출력한다.\n",
    "print(lst[2:5])\n",
    "# 마지막 값을 출력한다.\n",
    "print(lst[-1])"
   ]
  },
  {
   "cell_type": "markdown",
   "metadata": {},
   "source": [
    "#### 2. 철수, 영희, 수지, 수정, 길동, 영철 총 6명의 학생이 같은 반이다. 수정이가 친구와 놀러 간다고 수업에 빠졌고, 수정이의 엄마는 수정이가 왔는지 오지 않았는지 전화를 걸어 본다. 수정이가 있는지 없는지를 in을 이용하여 확인하시오."
   ]
  },
  {
   "cell_type": "code",
   "execution_count": 9,
   "metadata": {},
   "outputs": [
    {
     "name": "stdout",
     "output_type": "stream",
     "text": [
      "수정이 없음\n"
     ]
    }
   ],
   "source": [
    "stu = ['철수', '영희', '수지', '수정', '길동', '영철']\n",
    "del stu[3]\n",
    "if '수정' in stu:\n",
    "    print('수정이 있음')\n",
    "else:\n",
    "    print('수정이 없음')"
   ]
  },
  {
   "cell_type": "markdown",
   "metadata": {},
   "source": [
    "#### 3. 두 좌표 (x1, x1), (x2, x2)에 각각 (3, 5), (-1, 4)를 입력하여 직각 삼각형의 넓이(area)를 구하는 프로그램을 작성하시오."
   ]
  },
  {
   "cell_type": "code",
   "execution_count": 10,
   "metadata": {},
   "outputs": [
    {
     "name": "stdout",
     "output_type": "stream",
     "text": [
      "2.0\n"
     ]
    }
   ],
   "source": [
    "x1, y1 = 3, 5\n",
    "x2, y2 = -1, 4\n",
    "\n",
    "area = (x1 - x2) * (y1 - y2) / 2\n",
    "print(area)"
   ]
  },
  {
   "cell_type": "markdown",
   "metadata": {},
   "source": [
    "#### 4. words라는 list 안에 happy, love, I, am, You라는 단어가 차례대로 들어가 있다. 이 단어들로 문장을 만드시오."
   ]
  },
  {
   "cell_type": "code",
   "execution_count": 11,
   "metadata": {},
   "outputs": [
    {
     "name": "stdout",
     "output_type": "stream",
     "text": [
      "I love You\n"
     ]
    }
   ],
   "source": [
    "words = ['happy', 'love', 'I', 'am', 'You']\n",
    "love = ' '.join([words[2], words[1], words[4]])\n",
    "print(love)"
   ]
  },
  {
   "cell_type": "markdown",
   "metadata": {},
   "source": [
    "#### 5. 리스트 introduce에는 ‘내’, ‘이’, ‘름’, ‘은’, ‘수’, ‘지’, ‘야’라는 요소가 있다. 여기서 이름인 수지를 민수로 변경하여 출력하시오."
   ]
  },
  {
   "cell_type": "code",
   "execution_count": 12,
   "metadata": {},
   "outputs": [
    {
     "name": "stdout",
     "output_type": "stream",
     "text": [
      "['내', '이', '름', '은', '민', '수', '야']\n"
     ]
    }
   ],
   "source": [
    "introduce = [ '내', '이', '름', '은', '수', '지', '야']\n",
    "introduce[4:6] = ['민', '수']\n",
    "print(introduce)"
   ]
  },
  {
   "cell_type": "markdown",
   "metadata": {},
   "source": [
    "#### 6. 다음과 같은 리스트가 있다."
   ]
  },
  {
   "cell_type": "raw",
   "metadata": {},
   "source": [
    "[1,3,5,7,10]"
   ]
  },
  {
   "cell_type": "markdown",
   "metadata": {},
   "source": [
    "    - 리스트의 마지막에 11을 추가하세요.\n",
    "    - 리스트의 5와 7 사이에 6을 추가하세요.\n",
    "    - 리스트의 7과 10 사이에 8, 9를 추가하세요. (단, 명령어 1개로 처리하세요.)"
   ]
  },
  {
   "cell_type": "code",
   "execution_count": 19,
   "metadata": {},
   "outputs": [
    {
     "name": "stdout",
     "output_type": "stream",
     "text": [
      "[1, 3, 5, 6, 7, [8, 9], 10, 11]\n"
     ]
    }
   ],
   "source": [
    "list = [1,3,5,7,10]\n",
    "list.append(11)\n",
    "list.insert(3, 6)\n",
    "list.insert(5, [8, 9])\n",
    "# list.extend([8, 9])\n",
    "print(list)"
   ]
  },
  {
   "cell_type": "markdown",
   "metadata": {},
   "source": [
    "#### 7. 조건을 만족하는 프로그램을 작성하시오.\n",
    "    - 다음과 같은 리스트가 있다. 리스트 test는 [3, 6, 2, 1, 7, 8, 9, 3, 2, 6, 7, 5, 2]\n",
    "    - 사용자에게 값을 입력 받고 입력 값이 리스트에 있다면 다음과 같이 인덱스 값을 출력한다.\n",
    "      - 예) 8을 입력한 경우 출력값은 '5'\n",
    "    - 사용자가 입력한 값이 리스트에 여러 개 존재한다면 몇 개가 있는지 출력한다.\n",
    "      - 예) 2를 입력한 경우 출력값은 '3개'\n",
    "    - 사용자가 입력한 값이 리스트에 없는 경우는 '값이 존재하지 않습니다'라고 출력한다. "
   ]
  },
  {
   "cell_type": "code",
   "execution_count": 23,
   "metadata": {},
   "outputs": [
    {
     "name": "stdout",
     "output_type": "stream",
     "text": [
      "3\n",
      "2개\n"
     ]
    }
   ],
   "source": [
    "test = [3, 6, 2, 1, 7, 8, 9, 3, 2, 6, 7, 5, 2]\n",
    "num = int(input())\n",
    "cnt = test.count(num)\n",
    "if cnt > 1:\n",
    "    print(str(cnt) + '개')\n",
    "elif cnt == 1:\n",
    "    print(test.index(num))\n",
    "else:\n",
    "    print('값이 존재하지 않습니다.')\n",
    "    "
   ]
  },
  {
   "cell_type": "markdown",
   "metadata": {},
   "source": [
    "#### 8. 1~100까지 홀수만 출력하는 프로그램을 작성하시오."
   ]
  },
  {
   "cell_type": "code",
   "execution_count": 24,
   "metadata": {},
   "outputs": [
    {
     "name": "stdout",
     "output_type": "stream",
     "text": [
      "1 3 5 7 9 11 13 15 17 19 21 23 25 27 29 31 33 35 37 39 41 43 45 47 49 51 53 55 57 59 61 63 65 67 69 71 73 75 77 79 81 83 85 87 89 91 93 95 97 99 "
     ]
    }
   ],
   "source": [
    "for i in range(1, 100, 2):\n",
    "    print(i, end=' ')"
   ]
  },
  {
   "cell_type": "markdown",
   "metadata": {},
   "source": [
    "## 4장. 조건문"
   ]
  },
  {
   "cell_type": "markdown",
   "metadata": {},
   "source": [
    "#### 1. 이름을 입력받고 입력받은 이름을 출력하는 프로그램을 작성하시오."
   ]
  },
  {
   "cell_type": "code",
   "execution_count": 25,
   "metadata": {},
   "outputs": [
    {
     "name": "stdout",
     "output_type": "stream",
     "text": [
      "이름 입력: 정해성\n",
      "정해성\n"
     ]
    }
   ],
   "source": [
    "name = input('이름 입력: ')\n",
    "print(name)"
   ]
  },
  {
   "cell_type": "markdown",
   "metadata": {},
   "source": [
    "#### 2. 좋아하는 숫자 2개를 입력받고 두 수를 더하는 프로그램을 작성하시오."
   ]
  },
  {
   "cell_type": "code",
   "execution_count": 26,
   "metadata": {},
   "outputs": [
    {
     "name": "stdout",
     "output_type": "stream",
     "text": [
      "6\n",
      "8\n",
      "14\n"
     ]
    }
   ],
   "source": [
    "a = int(input())\n",
    "b = int(input())\n",
    "print(a + b)"
   ]
  },
  {
   "cell_type": "markdown",
   "metadata": {},
   "source": [
    "#### 3. 정수를 입력받고 6와 15의 공약수인지 아닌지 출력하는 프로그램을 작성하시오."
   ]
  },
  {
   "cell_type": "code",
   "execution_count": 28,
   "metadata": {},
   "outputs": [
    {
     "name": "stdout",
     "output_type": "stream",
     "text": [
      "30\n",
      "6과 15의 공약수입니다.\n"
     ]
    }
   ],
   "source": [
    "num = int(input())\n",
    "if num % 6 == 0 and num % 15 == 0:\n",
    "    print('6과 15의 공약수입니다.')\n",
    "else:\n",
    "    print('6과 15의 공약수가 아닙니다.')"
   ]
  },
  {
   "cell_type": "markdown",
   "metadata": {},
   "source": [
    "#### 4. 리스트 a에 숫자 6개를 입력하였는지 확인하는 프로그램을 작성하시오."
   ]
  },
  {
   "cell_type": "raw",
   "metadata": {},
   "source": [
    "리스트 a는 [1, 2, 3, 4, 5]"
   ]
  },
  {
   "cell_type": "code",
   "execution_count": null,
   "metadata": {},
   "outputs": [],
   "source": []
  },
  {
   "cell_type": "markdown",
   "metadata": {},
   "source": [
    "#### 5. 리스트 a의 멤버인지 아닌지 출력하는 프로그램을 작성하시오."
   ]
  },
  {
   "cell_type": "raw",
   "metadata": {},
   "source": [
    "리스트 a는 [1, 2, 3, 4, 5]"
   ]
  },
  {
   "cell_type": "code",
   "execution_count": 29,
   "metadata": {},
   "outputs": [
    {
     "name": "stdout",
     "output_type": "stream",
     "text": [
      "5\n",
      "5은 a의 멤버 입니다.\n"
     ]
    }
   ],
   "source": [
    "a = [1, 2, 3, 4, 5]\n",
    "num = int(input())\n",
    "if num in a:\n",
    "    print(str(num) + \"은 a의 멤버 입니다.\")\n",
    "else:\n",
    "    print(str(num) + \"은 a의 멤버가 아닙니다.\")"
   ]
  },
  {
   "cell_type": "markdown",
   "metadata": {},
   "source": [
    "#### 6. 비밀번호가 '1234'일 때 로그인 프로그램을 작성하시오."
   ]
  },
  {
   "cell_type": "code",
   "execution_count": 33,
   "metadata": {},
   "outputs": [
    {
     "name": "stdout",
     "output_type": "stream",
     "text": [
      "비밀번호를 입력하세요.0526\n",
      "비밀번호가 틀렸습니다.\n"
     ]
    }
   ],
   "source": [
    "pw = '1234'\n",
    "input_pw = input('비밀번호를 입력하세요.')\n",
    "if input_pw == pw:\n",
    "    print('로그인되었습니다.')\n",
    "else:\n",
    "    print('비밀번호가 틀렸습니다.')"
   ]
  },
  {
   "cell_type": "markdown",
   "metadata": {},
   "source": [
    "#### 7. 어느 회사의 입사 조건은 토익 점수가 800점 이상이거나 교양 영어에서 A학점이 만족되어야 한다. 길동이는 토익이 900점이고 교양 영어는 B학점이다. 길동이가 이 회사에 지원이 가능한지 여부를 조건식을 사용하여 확인하는 프로그램을 작성하시오."
   ]
  },
  {
   "cell_type": "code",
   "execution_count": 34,
   "metadata": {},
   "outputs": [
    {
     "name": "stdout",
     "output_type": "stream",
     "text": [
      "지원가능합니다.\n"
     ]
    }
   ],
   "source": [
    "toeic = 900\n",
    "eng = 'B'\n",
    "if toeic > 800 or eng == 'A':\n",
    "    print('지원가능합니다.')\n",
    "else:\n",
    "    print('지원불가능합니다.')"
   ]
  },
  {
   "cell_type": "markdown",
   "metadata": {},
   "source": [
    "#### 8. 두 수를 입력받고 두 수의 합이 100 이상이면 '100 이상입니다.', 100 미만이면 '100 미만입니다.'라고 출력하는 프로그램을 작성하시오."
   ]
  },
  {
   "cell_type": "code",
   "execution_count": 43,
   "metadata": {},
   "outputs": [
    {
     "name": "stdout",
     "output_type": "stream",
     "text": [
      "20\n",
      "70\n",
      "100 미만입니다.\n"
     ]
    }
   ],
   "source": [
    "a = int(input())\n",
    "b = int(input())\n",
    "if a + b >= 100:\n",
    "    print('100 이상입니다.')\n",
    "else:\n",
    "    print('100 미만입니다.')"
   ]
  },
  {
   "cell_type": "markdown",
   "metadata": {},
   "source": [
    "#### 9. 생일에 숫자 3이 들어가면 쿠폰을 지급하는 프로그램을 작성하시오."
   ]
  },
  {
   "cell_type": "code",
   "execution_count": 36,
   "metadata": {},
   "outputs": [
    {
     "name": "stdout",
     "output_type": "stream",
     "text": [
      "생일 입력030526\n",
      "쿠폰 O\n"
     ]
    }
   ],
   "source": [
    "birth = input('생일 입력')\n",
    "if '3' in birth:\n",
    "    print('쿠폰 O')\n",
    "else:\n",
    "    print('쿠폰 X')"
   ]
  },
  {
   "cell_type": "markdown",
   "metadata": {},
   "source": [
    "#### 10. 소수(prime number)인지 아닌지 판별하는 프로그램을 작성하시오."
   ]
  },
  {
   "cell_type": "code",
   "execution_count": 42,
   "metadata": {},
   "outputs": [
    {
     "name": "stdout",
     "output_type": "stream",
     "text": [
      "557\n",
      "소수입니다.\n"
     ]
    }
   ],
   "source": [
    "a = int(input())\n",
    "tmp = True\n",
    "\n",
    "if a == 1:\n",
    "    tmp = False\n",
    "else:\n",
    "    for i in range(2, int(a**(1/2)) + 1):\n",
    "        if a % i == 0:\n",
    "            tmp = False\n",
    "    \n",
    "if tmp:\n",
    "    print('소수입니다.')\n",
    "else:\n",
    "    print('소수가 아닙니다.')"
   ]
  },
  {
   "cell_type": "code",
   "execution_count": null,
   "metadata": {},
   "outputs": [],
   "source": []
  }
 ],
 "metadata": {
  "kernelspec": {
   "display_name": "Python 3",
   "language": "python",
   "name": "python3"
  },
  "language_info": {
   "codemirror_mode": {
    "name": "ipython",
    "version": 3
   },
   "file_extension": ".py",
   "mimetype": "text/x-python",
   "name": "python",
   "nbconvert_exporter": "python",
   "pygments_lexer": "ipython3",
   "version": "3.7.6"
  }
 },
 "nbformat": 4,
 "nbformat_minor": 2
}
