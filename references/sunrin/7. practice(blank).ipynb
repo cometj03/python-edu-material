{
 "cells": [
  {
   "cell_type": "markdown",
   "metadata": {},
   "source": [
    "#### 1. <조건>에 알맞는 Car 클래스를 구현하라.\n",
    "\n",
    "<조건>\n",
    "1. 최고 속도를 나타내는 max_speed 속성을 가진다.\n",
    "2. 현재 속도를 나타내는 speed 속성을 가진다.\n",
    "3. 인스턴스를 생성할 때 max_speed는 160, speed는 0이다.\n",
    "4. speed_up(), speed_down() 메소드를 가진다.\n",
    "5. speed_up() 메소드를 호출하면 speed 값이 20씩 증가한다.\n",
    "6. speed_down() 메소드를 호출하면 speed 값이 20씩 감소한다.\n",
    "7. speed 값은 0 이상 max_speed 이하의 값을 갖는다.\n",
    "8. speed_up(), speed_down() 메소드를 호출하면 현재 속도를 출력한다.(단, 반환값은 없다.)"
   ]
  },
  {
   "cell_type": "code",
   "execution_count": 4,
   "metadata": {},
   "outputs": [],
   "source": [
    "class Car:\n",
    "    max_speed = 160\n",
    "    def __init__(self):\n",
    "        self.speed = 0\n",
    "    def speed_up(self):\n",
    "        if self.speed + 20 <= max_speed:\n",
    "            self.speed += 20\n",
    "        print(self.speed)\n",
    "    def speed_down(self):\n",
    "        if self.speed - 20 >= 0:\n",
    "            self.speed -= 20\n",
    "        print(self.speed)"
   ]
  },
  {
   "cell_type": "markdown",
   "metadata": {},
   "source": [
    "#### 2. Car 클래스를 상속받아 <조건>에 알맞는 SportCar 클래스를 구현하라.\n",
    "\n",
    "<조건>\n",
    "1. SportCar 클래스는 max_speed 값이 200이다.\n",
    "2. SportCar 클래스는 speed_up(), speed_down() 메소드를 호출하면 각각 속도가 45씩 증가 및 감소한다.\n",
    "3. speed 값은 0 이상 max_speed 이하의 값을 갖는다.\n",
    "4. speed_up(), speed_down() 메소드를 호출하면 현재 속도를 출력한다.(단, 반환값은 없다.)"
   ]
  },
  {
   "cell_type": "code",
   "execution_count": 5,
   "metadata": {},
   "outputs": [],
   "source": [
    "class SportCar(Car):\n",
    "    max_speed = 200\n",
    "    def __init__(self):\n",
    "        self.speed = 0\n",
    "    def speed_up(self):\n",
    "        if self.speed + 45 <= max_speed:\n",
    "            self.speed += 45\n",
    "        print(self.speed)\n",
    "    def speed_down(self):\n",
    "        if self.speed - 45 >= 0:\n",
    "            self.speed -= 45\n",
    "        print(self.speed)"
   ]
  },
  {
   "cell_type": "markdown",
   "metadata": {},
   "source": [
    "#### 3. 학생의 학번, 이름, 수학 성적, 영어 성적을 저장하는 클래스를 구현하라. 평균 성적을 출력하는 메소드를 추가하라. (단, __str__() 메소드를 호출하면 학생의 이름을 반환한다.)"
   ]
  },
  {
   "cell_type": "code",
   "execution_count": 6,
   "metadata": {},
   "outputs": [],
   "source": [
    "class Student:\n",
    "    def __init__(self, num, name, math, eng):\n",
    "        self.num = num\n",
    "        self.name = name\n",
    "        self.math = math\n",
    "        self.eng = eng\n",
    "    \n",
    "    def __str__(self):\n",
    "        return self.name\n",
    "    \n",
    "    def mean_score(self):\n",
    "        print((self.math + self.eng) / 2)"
   ]
  },
  {
   "cell_type": "markdown",
   "metadata": {},
   "source": [
    "#### 4. 다음과 같은 Calculator 클래스가 있다."
   ]
  },
  {
   "cell_type": "code",
   "execution_count": 7,
   "metadata": {},
   "outputs": [],
   "source": [
    "class Calculator:\n",
    "    def __init__(self):\n",
    "        self.value = 0\n",
    "\n",
    "    def add(self, val):\n",
    "        self.value += val"
   ]
  },
  {
   "cell_type": "markdown",
   "metadata": {},
   "source": [
    "4-1. Calculator 클래스를 상속받아 minus() 메소드를 추가하여 UpgradeCalculator 클래스를 구현하라."
   ]
  },
  {
   "cell_type": "code",
   "execution_count": 12,
   "metadata": {},
   "outputs": [
    {
     "name": "stdout",
     "output_type": "stream",
     "text": [
      "-1\n"
     ]
    }
   ],
   "source": [
    "class UpgradeCalculator(Calculator):\n",
    "    def __init__(self):\n",
    "        super().__init__()\n",
    "    def minus(self, val):\n",
    "        self.value -= val\n",
    "\n",
    "a = UpgradeCalculator()\n",
    "a.minus(1)\n",
    "print(a.value)"
   ]
  },
  {
   "cell_type": "markdown",
   "metadata": {},
   "source": [
    "4-2. Calculator 클래스를 상속받아 value 값이 100 이상의 값을 가질 수 없도록 MaxLimitCalculator 클래스를 구현하라."
   ]
  },
  {
   "cell_type": "code",
   "execution_count": 8,
   "metadata": {},
   "outputs": [],
   "source": [
    "class MaxLimitCalculator(Calculator):\n",
    "    def add(self, val):\n",
    "        if self.value + val <= 100:\n",
    "            self.value += val"
   ]
  },
  {
   "cell_type": "markdown",
   "metadata": {},
   "source": [
    "#### 5. 좌표를 나타내는 클래스 Coordinate를 구현하라."
   ]
  },
  {
   "cell_type": "markdown",
   "metadata": {},
   "source": [
    "5-1. x와 y 속성을 가지며 두 속성 값은 0으로 초기화한다."
   ]
  },
  {
   "cell_type": "code",
   "execution_count": 16,
   "metadata": {},
   "outputs": [],
   "source": [
    "class Coordinate:\n",
    "    def __init__(self):\n",
    "        self.x = 0\n",
    "        self.y = 0"
   ]
  },
  {
   "cell_type": "markdown",
   "metadata": {},
   "source": [
    "5-2. 5-1번에서 정의한 Coordinate 클래스의 인스턴스를 2개 생성하라.(단, 인스턴스의 속성은 다음과 같이 부여한다.)\n",
    "\n",
    "- point_1 : x축 좌표 -1, y축 좌표 2\n",
    "- point_2 : x축 좌표 2, y축 좌표 3"
   ]
  },
  {
   "cell_type": "code",
   "execution_count": 17,
   "metadata": {},
   "outputs": [],
   "source": [
    "class Coordinate:\n",
    "    def __init__(self, x, y):\n",
    "        self.x = x\n",
    "        self.y = y\n",
    "        \n",
    "point_1 = Coordinate(-1, 2)\n",
    "point_2 = Coordinate(2, 3)"
   ]
  },
  {
   "cell_type": "markdown",
   "metadata": {},
   "source": [
    "5-3. 두 점 사이의 거리를 계산하는 함수는 다음과 같다. 5-2번에서 생성한 Coordinate 클래스의 인스턴스 2개를 전달받아 두 인스턴스 사이의 거리를 계산하는 함수 distance()를 정의하라."
   ]
  },
  {
   "cell_type": "code",
   "execution_count": null,
   "metadata": {},
   "outputs": [],
   "source": [
    "import math\n",
    "\n",
    "def square(x):\n",
    "    return x*x\n",
    "\n",
    "def distance(point_a, point_b):\n",
    "    return math.sqrt(square(point_a['x']-point_b['x'])+\n",
    "                     square(point_a['y']-point_b['y']))"
   ]
  },
  {
   "cell_type": "code",
   "execution_count": null,
   "metadata": {},
   "outputs": [],
   "source": []
  },
  {
   "cell_type": "markdown",
   "metadata": {},
   "source": [
    "5-4. 5-1번에서 정의한 Coordinate 클래스에 두 좌표 사이의 거리를 계산하여 반환하는 메소드 distance()를 추가하라. (단, distance() 메소드는 메소드를 호출한 인스턴스와 다른 인스턴스를 각각 매개변수로 전달하여 거리를 계산한다.)"
   ]
  },
  {
   "cell_type": "code",
   "execution_count": 18,
   "metadata": {},
   "outputs": [],
   "source": [
    "import math\n",
    "\n",
    "def square(x):\n",
    "    return x*x\n",
    "\n",
    "class Coordinate:\n",
    "    def __init__(self, x, y):\n",
    "        self.x = x\n",
    "        self.y = y\n",
    "    \n",
    "    def distance(self, p):\n",
    "        return math.sqrt(square(self.x - p.x) + square(self.y - p.y))"
   ]
  },
  {
   "cell_type": "markdown",
   "metadata": {},
   "source": [
    "5-5. 5-4번에서 정의한 Coordinate 클래스의 인스턴스를 생성할 때 초깃값을 전달하지 않을 경우 기본값을 0으로 하도록 재정의하라."
   ]
  },
  {
   "cell_type": "code",
   "execution_count": 19,
   "metadata": {},
   "outputs": [],
   "source": [
    "import math\n",
    "\n",
    "def square(x):\n",
    "    return x*x\n",
    "\n",
    "class Coordinate:\n",
    "    def __init__(self):\n",
    "        self.x = 0\n",
    "        self.y = 0\n",
    "    \n",
    "    def __init__(self, x, y):\n",
    "        self.x = x\n",
    "        self.y = y\n",
    "    \n",
    "    def distance(self, p):\n",
    "        return math.sqrt(square(self.x - p.x) + square(self.y - p.y))"
   ]
  },
  {
   "cell_type": "markdown",
   "metadata": {},
   "source": [
    "#### 6. <조건> 알맞는 도형 클래스 Shape, Triangle, Rectangle 클래스를 구현하라.\n",
    "\n",
    "<조건>\n",
    "1. Shape: 도형을 나타내는 클래스\n",
    "    - describe() 메소드 : '이 도형은 n개의 변을 가집니다.'를 출력한다. 변의 개수는 self.sides 속성을 사용한다.\n",
    "2. Triangle : 삼각형을 나타내는 클래스\n",
    "    - Shape 클래스를 상속받는다.\n",
    "    - 클래스 변수 sides : 변의 개수 3을 나타낸다.\n",
    "3. Rectangle : 사각형을 나타내는 클래스\n",
    "    - Shape 클래스를 상속받는다.\n",
    "    - 클래스 변수 sides : 변의 개수 4를 나타낸다."
   ]
  },
  {
   "cell_type": "code",
   "execution_count": 3,
   "metadata": {},
   "outputs": [
    {
     "name": "stdout",
     "output_type": "stream",
     "text": [
      "이 도형은 4 개의 변을 가집니다.\n"
     ]
    },
    {
     "data": {
      "text/plain": [
       "3"
      ]
     },
     "execution_count": 3,
     "metadata": {},
     "output_type": "execute_result"
    }
   ],
   "source": [
    "class Shape:\n",
    "    a = 3\n",
    "    def __init__(self, n):\n",
    "        self.sides = n\n",
    "    def describe(self):\n",
    "        print('이 도형은', self.sides, '개의 변을 가집니다.')\n",
    "\n",
    "class Triangle(Shape):\n",
    "    def __init__(self):\n",
    "        super().__init__(3)\n",
    "        \n",
    "class Rectangle(Shape):\n",
    "    def __init__(self):\n",
    "        super().__init__(4)\n",
    "        \n",
    "r = Rectangle()\n",
    "r.describe()\n",
    "r.a"
   ]
  },
  {
   "cell_type": "code",
   "execution_count": null,
   "metadata": {},
   "outputs": [],
   "source": []
  }
 ],
 "metadata": {
  "kernelspec": {
   "display_name": "Python 3",
   "language": "python",
   "name": "python3"
  },
  "language_info": {
   "codemirror_mode": {
    "name": "ipython",
    "version": 3
   },
   "file_extension": ".py",
   "mimetype": "text/x-python",
   "name": "python",
   "nbconvert_exporter": "python",
   "pygments_lexer": "ipython3",
   "version": "3.7.6"
  }
 },
 "nbformat": 4,
 "nbformat_minor": 2
}
