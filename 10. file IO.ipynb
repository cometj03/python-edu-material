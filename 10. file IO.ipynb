{
 "cells": [
  {
   "cell_type": "markdown",
   "metadata": {},
   "source": [
    "# 10장. 파일 처리"
   ]
  },
  {
   "cell_type": "markdown",
   "metadata": {},
   "source": [
    "## 1. 파일 생성 및 쓰기\n",
    "- 파일에 내용을 기록하기 전에 먼저 파일을 열어야 한다.\n",
    "- 파일을 열기 위해 open 함수를 사용한다.\n",
    "\n",
    "### 1) open 함수: open(file_name, access_mode, encoding)\n",
    "- open 함수는 다음과 같은 2개의 인자를 갖는다.\n",
    "- file_name은 파일의 이름으로 파일의 경로를 문자열로 지정한다. 이때, 절대 경로나 상대 경로를 사용할 수 있다.\n",
    "- access_mode는 파일에 접근하는 방법을 문자열로 지정한다. 'r'(읽기), 'w'(쓰기), 'a'(추가) 및 't'(텍스트 파일), 'b'(이진 파일)를 조합하여 지정한다.\n",
    "- 텍스트 파일로 파일을 열면 파일의 입출력은 유니코드 문자열인 str 객체를 통해 수행한다. 이때 텍스트 인코딩(encoding)과 디코딩(decoding)이 발생하게 된다.\n",
    "- 이진 파일로 파일을 열면 파일의 입출력은 bytes 객체를 통해 수행한다. bytes 객체는 1바이트 단위의 배열(또는 ASCII 문자열)로, 파일에 저장되어 있는 데이터를 바이트 단위로 변환없이 입출력한다.\n",
    "- encoding은 텍스트 파일로 파일을 열때만 의미가 있고 디폴트인 None은 시스템의 디폴트 인코딩(Windows의 경우 cp949)을 사용한다."
   ]
  },
  {
   "cell_type": "code",
   "execution_count": null,
   "metadata": {},
   "outputs": [],
   "source": [
    "f = open('file.txt', 'w') # 텍스트 쓰기 모드로 파일이 없으면 생성하고 연다.\n",
    "f.write('hello')\n",
    "f.write('\\n')\n",
    "f.write('world')\n",
    "f.close() # close 메소드를 호출하여 파일을 닫는다. 파일 사용이 종료된 후에는 반드시 파일을 닫아야 한다.\n",
    "\n",
    "f = open('file.txt', 'a')\n",
    "f.write('\\n')\n",
    "f.write('append')\n",
    "f.close()"
   ]
  },
  {
   "cell_type": "markdown",
   "metadata": {},
   "source": [
    "- 한글을 입력하고 싶다면 open 함수에서 encoding 값을 지정해야 한다."
   ]
  },
  {
   "cell_type": "code",
   "execution_count": null,
   "metadata": {},
   "outputs": [],
   "source": [
    "f = open('hangul.txt', 'w', encoding='utf-8')\n",
    "f.write('한글')\n",
    "f.write('\\n')\n",
    "f.write('English')\n",
    "f.close()"
   ]
  },
  {
   "cell_type": "markdown",
   "metadata": {},
   "source": [
    "#### os 모듈\n",
    "- os 모듈을 통해 어느 디렉터리에 어떤 파일이 있는지 조사하고 파일 객체를 생성할 수 있다."
   ]
  },
  {
   "cell_type": "code",
   "execution_count": null,
   "metadata": {},
   "outputs": [],
   "source": [
    "import os\n",
    "\n",
    "data = os.listdir('.') # os 모듈의 listdir 함수를 이용하여 현재 디렉터리에 있는 파일과 디렉터리 목록을 data 변수에 리스트 형태로 저장한다.\n",
    "#print(data)\n",
    "\n",
    "for d in data: # os.path 모듈의 isdir, isfile 함수를 이용하여 각 항목이 디렉터리인지 파일인지 여부를 조사하여 출력한다.\n",
    "    print(d)\n",
    "    print('is directory? : '+str(os.path.isdir(d)))\n",
    "    print('is file? : '+str(os.path.isfile(d)))"
   ]
  },
  {
   "cell_type": "markdown",
   "metadata": {},
   "source": [
    "## 2. 파일 읽기\n",
    "- f.read()로 전체 파일을 읽는다.\n",
    "- f.readline()으로 한 줄씩 읽는다."
   ]
  },
  {
   "cell_type": "code",
   "execution_count": null,
   "metadata": {},
   "outputs": [],
   "source": [
    "f = open('text.txt', 'w', encoding='utf-8')\n",
    "f.write('안녕하세요.')\n",
    "f.write('\\n')\n",
    "f.write('반갑습니다.')\n",
    "f.write('\\n')\n",
    "f.close()"
   ]
  },
  {
   "cell_type": "code",
   "execution_count": null,
   "metadata": {},
   "outputs": [],
   "source": [
    "f = open('text.txt', 'r', encoding='utf-8')\n",
    "text = f.read()\n",
    "print(text)\n",
    "f.close()"
   ]
  },
  {
   "cell_type": "code",
   "execution_count": null,
   "metadata": {},
   "outputs": [],
   "source": [
    "f = open('text.txt', 'r', encoding='utf-8')\n",
    "line1 = f.readline()\n",
    "print('line 1 : '+line1)\n",
    "line2 = f.readline()\n",
    "print('line 2 : '+line2)\n",
    "line3 = f.readline()\n",
    "print('line 3 : '+line3)\n",
    "f.close()"
   ]
  },
  {
   "cell_type": "markdown",
   "metadata": {},
   "source": [
    "## 3. 파일 입출력 관련 주요 함수\n",
    "- f.name : 파일 이름\n",
    "- f.mode : 파일 열기 모드 조회\n",
    "- f.encoding : 현재 사용되고 있는 인코딩(텍스트 파일에서만 유효)\n",
    "- f.close() : 닫기. 강제로 사용이 끝나 파일을 닫는다. 이를 호출하지 않아도 파일객체가 파괴될 때 파일을 닫는다.\n",
    "- f.flush() : 버퍼 즉시 비우기\n",
    "- f.closed : 파일이 닫혔는지 여부를 True, False로 리턴\n",
    "- f.readable(), f.writable() : 읽거나 쓸 수 있는지 True, False로 리턴\n",
    "- f.seek(offset, whence=SEEK_SET), f.tell() : 파일 포인터 위치 설정. 기준위치 whence에 SEEK_SET(0), SEEK_CUR(1), SEEK_END(2) 지정 가능. offset이 음수이면 기준위치로 부터 역방향으로 위치 지정\n",
    "- f.tell() : 파일 포인터 위치 조회\n",
    "- f.read([size]),f.readline([size]), f.readlines([sizehint]): 읽기 함수.\n",
    "- f.write(str), f.writelines(sequenc) : 쓰기 함수"
   ]
  },
  {
   "cell_type": "markdown",
   "metadata": {},
   "source": [
    "## 4. with 구문\n",
    "- with 구문을 이용하여 구문내에서만 유효한 파일객체를 사용한다.\n",
    "- f.close()로 명시적으로 파일을 닫지 않아도 with 블록이 끝날 때 파일 자동으로 닫힌다."
   ]
  },
  {
   "cell_type": "code",
   "execution_count": null,
   "metadata": {},
   "outputs": [],
   "source": [
    "with open('test.txt') as f:\n",
    "    strlist = f.readlines()"
   ]
  },
  {
   "cell_type": "markdown",
   "metadata": {},
   "source": [
    "## 5. 예외 처리\n",
    "- 주어진 파일명의 파일이 존재하지 않거나 인코딩 오류가 발생하는 등과 같은 여러 예외가 발생할 수 있다.\n",
    "- 이러한 오류는 IOError로 처리할 수 있다."
   ]
  },
  {
   "cell_type": "code",
   "execution_count": null,
   "metadata": {},
   "outputs": [],
   "source": [
    "try:\n",
    "    f = open(filename,\"rb\")\n",
    "    try:\n",
    "        data = f.read()\n",
    "    finally:\n",
    "        f.close()\n",
    "except IOError:\n",
    "    print(\"IOError occured\")"
   ]
  }
 ],
 "metadata": {
  "kernelspec": {
   "display_name": "Python 3",
   "language": "python",
   "name": "python3"
  },
  "language_info": {
   "codemirror_mode": {
    "name": "ipython",
    "version": 3
   },
   "file_extension": ".py",
   "mimetype": "text/x-python",
   "name": "python",
   "nbconvert_exporter": "python",
   "pygments_lexer": "ipython3",
   "version": "3.7.6"
  }
 },
 "nbformat": 4,
 "nbformat_minor": 2
}
