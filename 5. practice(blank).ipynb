{
 "cells": [
  {
   "cell_type": "markdown",
   "metadata": {},
   "source": [
    "#### 1. while문을 사용하여 1부터 10까지 출력하는 프로그램을 작성하라."
   ]
  },
  {
   "cell_type": "code",
   "execution_count": 1,
   "metadata": {},
   "outputs": [
    {
     "name": "stdout",
     "output_type": "stream",
     "text": [
      "1 2 3 4 5 6 7 8 9 10 "
     ]
    }
   ],
   "source": [
    "i = 1\n",
    "while i <= 10:\n",
    "    print(i, end=' ')\n",
    "    i += 1"
   ]
  },
  {
   "cell_type": "markdown",
   "metadata": {},
   "source": [
    "#### 2. 1부터 100까지 4의 배수를 출력하는 프로그램을 작성하라."
   ]
  },
  {
   "cell_type": "code",
   "execution_count": 3,
   "metadata": {},
   "outputs": [
    {
     "name": "stdout",
     "output_type": "stream",
     "text": [
      "4 8 12 16 20 24 28 32 36 40 44 48 52 56 60 64 68 72 76 80 84 88 92 96 100 "
     ]
    }
   ],
   "source": [
    "for i in range(1, 101):\n",
    "    if i % 4 == 0:\n",
    "        print(i, end=' ')"
   ]
  },
  {
   "cell_type": "markdown",
   "metadata": {},
   "source": [
    "#### 3. 비밀번호가 일치할 때까지 로그인하는 프로그램을 작성하라. (단, 비밀번호는 1234이다.)"
   ]
  },
  {
   "cell_type": "code",
   "execution_count": 5,
   "metadata": {},
   "outputs": [
    {
     "name": "stdout",
     "output_type": "stream",
     "text": [
      "비밀번호 입력 : 1\n",
      "다시 입력 : 1234\n",
      "맞았습니다\n"
     ]
    }
   ],
   "source": [
    "pw = '1234'\n",
    "input_pw = input(\"비밀번호 입력 : \")\n",
    "while input_pw != pw:\n",
    "    input_pw = input(\"다시 입력 : \")\n",
    "else:\n",
    "    print(\"맞았습니다\")"
   ]
  },
  {
   "cell_type": "markdown",
   "metadata": {},
   "source": [
    "#### 4. 2~9단까지 구구단을 출력하는 프로그램을 작성하라."
   ]
  },
  {
   "cell_type": "code",
   "execution_count": 6,
   "metadata": {},
   "outputs": [
    {
     "name": "stdout",
     "output_type": "stream",
     "text": [
      "2 * 1 = 2\n",
      "2 * 2 = 4\n",
      "2 * 3 = 6\n",
      "2 * 4 = 8\n",
      "2 * 5 = 10\n",
      "2 * 6 = 12\n",
      "2 * 7 = 14\n",
      "2 * 8 = 16\n",
      "2 * 9 = 18\n",
      "3 * 1 = 3\n",
      "3 * 2 = 6\n",
      "3 * 3 = 9\n",
      "3 * 4 = 12\n",
      "3 * 5 = 15\n",
      "3 * 6 = 18\n",
      "3 * 7 = 21\n",
      "3 * 8 = 24\n",
      "3 * 9 = 27\n",
      "4 * 1 = 4\n",
      "4 * 2 = 8\n",
      "4 * 3 = 12\n",
      "4 * 4 = 16\n",
      "4 * 5 = 20\n",
      "4 * 6 = 24\n",
      "4 * 7 = 28\n",
      "4 * 8 = 32\n",
      "4 * 9 = 36\n",
      "5 * 1 = 5\n",
      "5 * 2 = 10\n",
      "5 * 3 = 15\n",
      "5 * 4 = 20\n",
      "5 * 5 = 25\n",
      "5 * 6 = 30\n",
      "5 * 7 = 35\n",
      "5 * 8 = 40\n",
      "5 * 9 = 45\n",
      "6 * 1 = 6\n",
      "6 * 2 = 12\n",
      "6 * 3 = 18\n",
      "6 * 4 = 24\n",
      "6 * 5 = 30\n",
      "6 * 6 = 36\n",
      "6 * 7 = 42\n",
      "6 * 8 = 48\n",
      "6 * 9 = 54\n",
      "7 * 1 = 7\n",
      "7 * 2 = 14\n",
      "7 * 3 = 21\n",
      "7 * 4 = 28\n",
      "7 * 5 = 35\n",
      "7 * 6 = 42\n",
      "7 * 7 = 49\n",
      "7 * 8 = 56\n",
      "7 * 9 = 63\n",
      "8 * 1 = 8\n",
      "8 * 2 = 16\n",
      "8 * 3 = 24\n",
      "8 * 4 = 32\n",
      "8 * 5 = 40\n",
      "8 * 6 = 48\n",
      "8 * 7 = 56\n",
      "8 * 8 = 64\n",
      "8 * 9 = 72\n",
      "9 * 1 = 9\n",
      "9 * 2 = 18\n",
      "9 * 3 = 27\n",
      "9 * 4 = 36\n",
      "9 * 5 = 45\n",
      "9 * 6 = 54\n",
      "9 * 7 = 63\n",
      "9 * 8 = 72\n",
      "9 * 9 = 81\n"
     ]
    }
   ],
   "source": [
    "for i in range(2, 10):\n",
    "    for j in range(1, 10):\n",
    "        print(i, \"*\", j, \"=\", i*j)"
   ]
  },
  {
   "cell_type": "markdown",
   "metadata": {},
   "source": [
    "#### 5. 숫자 5개를 입력받고 가장 큰 수를 출력하는 프로그램을 작성하라."
   ]
  },
  {
   "cell_type": "code",
   "execution_count": 8,
   "metadata": {},
   "outputs": [
    {
     "name": "stdout",
     "output_type": "stream",
     "text": [
      "숫자 입력 : 1\n",
      "숫자 입력 : 2\n",
      "숫자 입력 : 3\n",
      "숫자 입력 : 4\n",
      "숫자 입력 : 5\n",
      "가장 큰 숫자는  5 입니다\n"
     ]
    }
   ],
   "source": [
    "m = 0\n",
    "for i in range(5):\n",
    "    a = int(input(\"숫자 입력 : \"))\n",
    "    if a > m:\n",
    "        m = a\n",
    "print(\"가장 큰 숫자는\", m, \"입니다\") "
   ]
  },
  {
   "cell_type": "markdown",
   "metadata": {},
   "source": [
    "#### 6. 다음과 같은 리스트가 있다. 이름을 입력받고 리스트에 일치하는 이름이 있다면 몇 번째에 있는지 출력하는 프로그램을 작성하라. (단, 리스트에 없는 경우 '리스트에 없는 이름입니다.'를 출력한다.)"
   ]
  },
  {
   "cell_type": "raw",
   "metadata": {},
   "source": [
    "girlfriend = ['소원','예린','은하','유주','신비','엄지']"
   ]
  },
  {
   "cell_type": "code",
   "execution_count": 13,
   "metadata": {},
   "outputs": [
    {
     "name": "stdout",
     "output_type": "stream",
     "text": [
      "이름을 입력하세요 : ㅁㄴㅇㄹ\n",
      "리스트에 없는 이름입니다.\n"
     ]
    }
   ],
   "source": [
    "girlfriend = ['소원','예린','은하','유주','신비','엄지']\n",
    "tmp = 0\n",
    "name = input(\"이름을 입력하세요 : \")\n",
    "for i in range(len(girlfriend)):\n",
    "    if girlfriend[i] == name:\n",
    "        print(i)\n",
    "        tmp = 1\n",
    "        break\n",
    "if tmp == 0:\n",
    "    print(\"리스트에 없는 이름입니다.\")"
   ]
  },
  {
   "cell_type": "markdown",
   "metadata": {},
   "source": [
    "#### 7. 두 수를 입력받고 두 수가 같을 때 break문을 사용하여 반복문을 종료하는 프로그램을 작성하라."
   ]
  },
  {
   "cell_type": "code",
   "execution_count": 23,
   "metadata": {},
   "outputs": [
    {
     "name": "stdout",
     "output_type": "stream",
     "text": [
      "두 수 입력 : 1 2\n",
      "두 수 입력 : 1 1\n"
     ]
    }
   ],
   "source": [
    "while True:\n",
    "    a, b = input(\"두 수 입력 : \").split()\n",
    "    a, b = int(a), int(b)\n",
    "    if a == b:\n",
    "        break"
   ]
  },
  {
   "cell_type": "markdown",
   "metadata": {},
   "source": [
    "#### 8. 1부터 50까지 7의 배수를 제외하고 출력하는 프로그램을 작성하라."
   ]
  },
  {
   "cell_type": "code",
   "execution_count": 24,
   "metadata": {},
   "outputs": [
    {
     "name": "stdout",
     "output_type": "stream",
     "text": [
      "1 2 3 4 5 6 8 9 10 11 12 13 15 16 17 18 19 20 22 23 24 25 26 27 29 30 31 32 33 34 36 37 38 39 40 41 43 44 45 46 47 48 50 "
     ]
    }
   ],
   "source": [
    "for i in range(1, 51):\n",
    "    if i % 7 == 0:\n",
    "        continue\n",
    "    print(i, end=' ')"
   ]
  },
  {
   "cell_type": "markdown",
   "metadata": {},
   "source": [
    "#### 9. 다음과 같이 출력하는 프로그램을 작성하라. (단, for문을 사용한다.)"
   ]
  },
  {
   "cell_type": "raw",
   "metadata": {},
   "source": [
    "KAAAAAK\n",
    "KAAAAAK\n",
    "KAAAAAK\n",
    "KAAAAAK\n",
    "KAAAAAK"
   ]
  },
  {
   "cell_type": "code",
   "execution_count": 26,
   "metadata": {},
   "outputs": [
    {
     "name": "stdout",
     "output_type": "stream",
     "text": [
      "KAAAAAK\n",
      "KAAAAAK\n",
      "KAAAAAK\n",
      "KAAAAAK\n",
      "KAAAAAK\n"
     ]
    }
   ],
   "source": [
    "for i in range(5):\n",
    "    for j in range(7):\n",
    "        if j == 0 or j == 6:\n",
    "            print(\"K\", end='')\n",
    "        else:\n",
    "            print(\"A\", end='')\n",
    "    print()"
   ]
  },
  {
   "cell_type": "markdown",
   "metadata": {},
   "source": [
    "#### 10. 다음과 같이 출력하는 프로그램을 작성하라. (단, for문을 사용한다.)"
   ]
  },
  {
   "cell_type": "raw",
   "metadata": {},
   "source": [
    "KKKKKKK\n",
    "AAAAAAA\n",
    "KKKKKKK\n",
    "AAAAAAA\n",
    "KKKKKKK"
   ]
  },
  {
   "cell_type": "code",
   "execution_count": 27,
   "metadata": {},
   "outputs": [
    {
     "name": "stdout",
     "output_type": "stream",
     "text": [
      "KKKKKKK\n",
      "AAAAAAA\n",
      "KKKKKKK\n",
      "AAAAAAA\n",
      "KKKKKKK\n"
     ]
    }
   ],
   "source": [
    "for i in range(5):\n",
    "    for j in range(7):\n",
    "        if i % 2 == 0:\n",
    "            print(\"K\", end='')\n",
    "        else:\n",
    "            print(\"A\", end='')\n",
    "    print()"
   ]
  },
  {
   "cell_type": "markdown",
   "metadata": {},
   "source": [
    "#### 11. 다음과 같이 출력하는 프로그램을 작성하라. (단, for문을 사용한다.)"
   ]
  },
  {
   "cell_type": "code",
   "execution_count": null,
   "metadata": {},
   "outputs": [],
   "source": [
    "A\n",
    "AA\n",
    "AAA\n",
    "AAAA\n",
    "AAAAA\n",
    "AAAAAA"
   ]
  },
  {
   "cell_type": "code",
   "execution_count": 28,
   "metadata": {},
   "outputs": [
    {
     "name": "stdout",
     "output_type": "stream",
     "text": [
      "A\n",
      "AA\n",
      "AAA\n",
      "AAAA\n",
      "AAAAA\n",
      "AAAAAA\n"
     ]
    }
   ],
   "source": [
    "for i in range(6):\n",
    "    for j in range(i + 1):\n",
    "        print(\"A\", end='')\n",
    "    print()"
   ]
  },
  {
   "cell_type": "markdown",
   "metadata": {},
   "source": [
    "#### 12. 다음과 같은 리스트가 있다. 홀수에만 2를 곱해 새로운 리스트에 저장하는 프로그램을 작성하라."
   ]
  },
  {
   "cell_type": "raw",
   "metadata": {},
   "source": [
    "numbers = [1, 2, 3, 4, 5]"
   ]
  },
  {
   "cell_type": "code",
   "execution_count": 29,
   "metadata": {},
   "outputs": [
    {
     "name": "stdout",
     "output_type": "stream",
     "text": [
      "[2, 2, 6, 4, 10]\n"
     ]
    }
   ],
   "source": [
    "numbers = [1, 2, 3, 4, 5]\n",
    "for i in range(len(numbers)):\n",
    "    if numbers[i] % 2 == 1:\n",
    "        numbers[i] = numbers[i] * 2\n",
    "print(numbers)"
   ]
  },
  {
   "cell_type": "markdown",
   "metadata": {},
   "source": [
    "#### 13. 다음은 10명의 학생의 중간고사 점수이다. for문을 사용하여 A학급의 평균 점수를 출력하는 프로그램을 작성하라."
   ]
  },
  {
   "cell_type": "raw",
   "metadata": {},
   "source": [
    "[70, 60, 55, 75, 95, 90, 80, 80, 85, 100]"
   ]
  },
  {
   "cell_type": "code",
   "execution_count": 30,
   "metadata": {},
   "outputs": [
    {
     "name": "stdout",
     "output_type": "stream",
     "text": [
      "79.0\n"
     ]
    }
   ],
   "source": [
    "scores = [70, 60, 55, 75, 95, 90, 80, 80, 85, 100]\n",
    "sum = 0\n",
    "for i in range(len(scores)):\n",
    "    sum += scores[i]\n",
    "print(sum / len(scores))"
   ]
  },
  {
   "cell_type": "markdown",
   "metadata": {},
   "source": [
    "#### 14. 정수를 입력받고 소수인지 아닌지 출력하는 프로그램을 작성하라."
   ]
  },
  {
   "cell_type": "code",
   "execution_count": 33,
   "metadata": {},
   "outputs": [
    {
     "name": "stdout",
     "output_type": "stream",
     "text": [
      "숫자 입력 : 5\n",
      "소수입니다\n"
     ]
    }
   ],
   "source": [
    "n = int(input(\"숫자 입력 : \"))\n",
    "for i in range(2, int(n**(1/2) + 1)):\n",
    "    if n % i == 0:\n",
    "        n = 1\n",
    "if n <= 1:\n",
    "    print(\"소수가 아닙니다\")\n",
    "else:\n",
    "    print(\"소수입니다\")"
   ]
  },
  {
   "cell_type": "code",
   "execution_count": null,
   "metadata": {},
   "outputs": [],
   "source": []
  }
 ],
 "metadata": {
  "kernelspec": {
   "display_name": "Python 3",
   "language": "python",
   "name": "python3"
  },
  "language_info": {
   "codemirror_mode": {
    "name": "ipython",
    "version": 3
   },
   "file_extension": ".py",
   "mimetype": "text/x-python",
   "name": "python",
   "nbconvert_exporter": "python",
   "pygments_lexer": "ipython3",
   "version": "3.7.6"
  }
 },
 "nbformat": 4,
 "nbformat_minor": 2
}
